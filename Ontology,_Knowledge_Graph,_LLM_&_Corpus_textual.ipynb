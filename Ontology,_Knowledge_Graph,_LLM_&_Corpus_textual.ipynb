{
  "nbformat": 4,
  "nbformat_minor": 0,
  "metadata": {
    "colab": {
      "provenance": [],
      "authorship_tag": "ABX9TyNlzrVo1qyECyBLuJ+x7o4Z",
      "include_colab_link": true
    },
    "kernelspec": {
      "name": "python3",
      "display_name": "Python 3"
    },
    "language_info": {
      "name": "python"
    }
  },
  "cells": [
    {
      "cell_type": "markdown",
      "metadata": {
        "id": "view-in-github",
        "colab_type": "text"
      },
      "source": [
        "<a href=\"https://colab.research.google.com/github/Vjfrib/ED/blob/main/Ontology%2C_Knowledge_Graph%2C_LLM_%26_Corpus_textual.ipynb\" target=\"_parent\"><img src=\"https://colab.research.google.com/assets/colab-badge.svg\" alt=\"Open In Colab\"/></a>"
      ]
    },
    {
      "cell_type": "code",
      "execution_count": null,
      "metadata": {
        "colab": {
          "base_uri": "https://localhost:8080/",
          "height": 516
        },
        "id": "wzIDZ3Y2LlAJ",
        "outputId": "db2d98f6-f471-4d8f-bcc3-ebb6651cc750"
      },
      "outputs": [
        {
          "output_type": "display_data",
          "data": {
            "text/plain": [
              "<Figure size 640x480 with 1 Axes>"
            ],
            "image/png": "[encoded data removed]"
          },
          "metadata": {}
        }
      ],
      "source": [
        "import spacy\n",
        "import networkx as nx\n",
        "import matplotlib.pyplot as plt\n",
        "\n",
        "# Carregar o modelo de linguagem do spaCy\n",
        "nlp = spacy.load('en_core_web_sm')\n",
        "\n",
        "# Texto de exemplo\n",
        "corpus = \"Barack Obama was the 44th president of the United States. He was born in Hawaii.\"\n",
        "\n",
        "# Processar o texto\n",
        "doc = nlp(corpus)\n",
        "\n",
        "# Inicializar o grafo\n",
        "G = nx.Graph()\n",
        "\n",
        "# Adicionar nós e arestas ao grafo\n",
        "for ent in doc.ents:\n",
        "    G.add_node(ent.text, label=ent.label_)\n",
        "\n",
        "for sent in doc.sents:\n",
        "    for ent1 in sent.ents:\n",
        "        for ent2 in sent.ents:\n",
        "            if ent1 != ent2:\n",
        "                G.add_edge(ent1.text, ent2.text)\n",
        "\n",
        "# Visualizar o grafo\n",
        "pos = nx.spring_layout(G)\n",
        "nx.draw(G, pos, with_labels=True, node_size=3000, node_color='skyblue', font_size=10, font_weight='bold')\n",
        "plt.show()\n"
      ]
    },
    {
      "cell_type": "code",
      "source": [
        "import spacy\n",
        "import networkx as nx\n",
        "import matplotlib.pyplot as plt\n",
        "from owlready2 import *\n",
        "\n",
        "# Carregar o modelo de linguagem do spaCy\n",
        "nlp = spacy.load('en_core_web_sm')\n",
        "\n",
        "# Exemplo de corpus\n",
        "corpus = [\"Barack Obama was the 44th president of the United States.\",\n",
        "          \"He was born in Hawaii.\"]\n",
        "\n",
        "# Pré-processamento do texto\n",
        "docs = [nlp(text) for text in corpus]\n",
        "\n",
        "# Extração de entidades e relações\n",
        "entities = set()\n",
        "relations = []\n",
        "\n",
        "for doc in docs:\n",
        "    for ent in doc.ents:\n",
        "        entities.add((ent.text, ent.label_))\n",
        "    for sent in doc.sents:\n",
        "        for ent1 in sent.ents:\n",
        "            for ent2 in sent.ents:\n",
        "                if ent1 != ent2:\n",
        "                    relations.append((ent1.text, ent2.text))\n",
        "\n",
        "# Construção do grafo de conhecimento\n",
        "G = nx.Graph()\n",
        "\n",
        "# Adicionar nós e arestas ao grafo\n",
        "for entity in entities:\n",
        "    G.add_node(entity[0], label=entity[1])\n",
        "\n",
        "for rel in relations:\n",
        "    G.add_edge(rel[0], rel[1])\n",
        "\n",
        "# Visualizar o grafo\n",
        "pos = nx.spring_layout(G)\n",
        "nx.draw(G, pos, with_labels=True, node_size=3000, node_color='skyblue', font_size=10, font_weight='bold')\n",
        "plt.show()\n",
        "\n",
        "# Desenvolvimento de uma ontologia\n",
        "# Criação de uma nova ontologia\n",
        "onto = get_ontology(\"http://example.org/onto.owl\")\n",
        "\n",
        "with onto:\n",
        "    class Person(Thing):\n",
        "        pass\n",
        "    class Place(Thing):\n",
        "        pass\n",
        "    class Event(Thing):\n",
        "        pass\n",
        "    class born_in(Person >> Place):\n",
        "        pass\n",
        "    class president_of(Person >> Place):\n",
        "        pass\n",
        "\n",
        "# Adicionar instâncias à ontologia\n",
        "barack = Person(\"Barack_Obama\")\n",
        "usa = Place(\"United_States\")\n",
        "hawaii = Place(\"Hawaii\")\n",
        "\n",
        "# Adicionar relações\n",
        "born_in(barack, hawaii)\n",
        "president_of(barack, usa)\n",
        "\n",
        "# Salvar a ontologia\n",
        "onto.save(file=\"ontology.owl\", format=\"rdfxml\")\n"
      ],
      "metadata": {
        "colab": {
          "base_uri": "https://localhost:8080/",
          "height": 412
        },
        "id": "vlgdry3pMmmZ",
        "outputId": "37ae2d86-7c06-42cf-fb8f-2effb1982553"
      },
      "execution_count": null,
      "outputs": [
        {
          "output_type": "error",
          "ename": "ModuleNotFoundError",
          "evalue": "No module named 'owlready2'",
          "traceback": [
            "\u001b[0;31m---------------------------------------------------------------------------\u001b[0m",
            "\u001b[0;31mModuleNotFoundError\u001b[0m                       Traceback (most recent call last)",
            "\u001b[0;32m<ipython-input-2-73c5f2d568cf>\u001b[0m in \u001b[0;36m<cell line: 4>\u001b[0;34m()\u001b[0m\n\u001b[1;32m      2\u001b[0m \u001b[0;32mimport\u001b[0m \u001b[0mnetworkx\u001b[0m \u001b[0;32mas\u001b[0m \u001b[0mnx\u001b[0m\u001b[0;34m\u001b[0m\u001b[0;34m\u001b[0m\u001b[0m\n\u001b[1;32m      3\u001b[0m \u001b[0;32mimport\u001b[0m \u001b[0mmatplotlib\u001b[0m\u001b[0;34m.\u001b[0m\u001b[0mpyplot\u001b[0m \u001b[0;32mas\u001b[0m \u001b[0mplt\u001b[0m\u001b[0;34m\u001b[0m\u001b[0;34m\u001b[0m\u001b[0m\n\u001b[0;32m----> 4\u001b[0;31m \u001b[0;32mfrom\u001b[0m \u001b[0mowlready2\u001b[0m \u001b[0;32mimport\u001b[0m \u001b[0;34m*\u001b[0m\u001b[0;34m\u001b[0m\u001b[0;34m\u001b[0m\u001b[0m\n\u001b[0m\u001b[1;32m      5\u001b[0m \u001b[0;34m\u001b[0m\u001b[0m\n\u001b[1;32m      6\u001b[0m \u001b[0;31m# Carregar o modelo de linguagem do spaCy\u001b[0m\u001b[0;34m\u001b[0m\u001b[0;34m\u001b[0m\u001b[0m\n",
            "\u001b[0;31mModuleNotFoundError\u001b[0m: No module named 'owlready2'",
            "",
            "\u001b[0;31m---------------------------------------------------------------------------\u001b[0;32m\nNOTE: If your import is failing due to a missing package, you can\nmanually install dependencies using either !pip or !apt.\n\nTo view examples of installing some common dependencies, click the\n\"Open Examples\" button below.\n\u001b[0;31m---------------------------------------------------------------------------\u001b[0m\n"
          ],
          "errorDetails": {
            "actions": [
              {
                "action": "open_url",
                "actionText": "Open Examples",
                "url": "/notebooks/snippets/importing_libraries.ipynb"
              }
            ]
          }
        }
      ]
    },
    {
      "cell_type": "code",
      "source": [
        "!pip install owlready2\n",
        "!apt-get install graphviz\n",
        "!pip install pygraphviz\n"
      ],
      "metadata": {
        "colab": {
          "base_uri": "https://localhost:8080/"
        },
        "id": "LS2a9cQZM2x9",
        "outputId": "00080a20-2a1e-46c8-99ee-5e327e20b02c"
      },
      "execution_count": null,
      "outputs": [
        {
          "output_type": "stream",
          "name": "stdout",
          "text": [
            "Collecting owlready2\n",
            "  Downloading owlready2-0.46.tar.gz (27.4 MB)\n",
            "\u001b[2K     \u001b[90m━━━━━━━━━━━━━━━━━━━━━━━━━━━━━━━━━━━━━━━━\u001b[0m \u001b[32m27.4/27.4 MB\u001b[0m \u001b[31m40.2 MB/s\u001b[0m eta \u001b[36m0:00:00\u001b[0m\n",
            "\u001b[?25h  Installing build dependencies ... \u001b[?25l\u001b[?25hdone\n",
            "  Getting requirements to build wheel ... \u001b[?25l\u001b[?25hdone\n",
            "  Preparing metadata (pyproject.toml) ... \u001b[?25l\u001b[?25hdone\n",
            "Building wheels for collected packages: owlready2\n",
            "  Building wheel for owlready2 (pyproject.toml) ... \u001b[?25l\u001b[?25hdone\n",
            "  Created wheel for owlready2: filename=owlready2-0.46-cp310-cp310-linux_x86_64.whl size=24087766 sha256=6d5aa134d13d0b6efef2cd7cf9e77d6e61be542f754b72ae9c95eda7a4ac45f0\n",
            "  Stored in directory: /root/.cache/pip/wheels/bf/6f/ef/35df148baa59fc6b243aca4f101e17aed14b67dc1166b73fe0\n",
            "Successfully built owlready2\n",
            "Installing collected packages: owlready2\n",
            "Successfully installed owlready2-0.46\n",
            "Reading package lists... Done\n",
            "Building dependency tree... Done\n",
            "Reading state information... Done\n",
            "graphviz is already the newest version (2.42.2-6ubuntu0.1).\n",
            "0 upgraded, 0 newly installed, 0 to remove and 45 not upgraded.\n",
            "Collecting pygraphviz\n",
            "  Downloading pygraphviz-1.13.tar.gz (104 kB)\n",
            "\u001b[2K     \u001b[90m━━━━━━━━━━━━━━━━━━━━━━━━━━━━━━━━━━━━━━━━\u001b[0m \u001b[32m104.6/104.6 kB\u001b[0m \u001b[31m3.2 MB/s\u001b[0m eta \u001b[36m0:00:00\u001b[0m\n",
            "\u001b[?25h  Installing build dependencies ... \u001b[?25l\u001b[?25hdone\n",
            "  Getting requirements to build wheel ... \u001b[?25l\u001b[?25hdone\n",
            "  Preparing metadata (pyproject.toml) ... \u001b[?25l\u001b[?25hdone\n",
            "Building wheels for collected packages: pygraphviz\n",
            "  \u001b[1;31merror\u001b[0m: \u001b[1msubprocess-exited-with-error\u001b[0m\n",
            "  \n",
            "  \u001b[31m×\u001b[0m \u001b[32mBuilding wheel for pygraphviz \u001b[0m\u001b[1;32m(\u001b[0m\u001b[32mpyproject.toml\u001b[0m\u001b[1;32m)\u001b[0m did not run successfully.\n",
            "  \u001b[31m│\u001b[0m exit code: \u001b[1;36m1\u001b[0m\n",
            "  \u001b[31m╰─>\u001b[0m See above for output.\n",
            "  \n",
            "  \u001b[1;35mnote\u001b[0m: This error originates from a subprocess, and is likely not a problem with pip.\n",
            "  Building wheel for pygraphviz (pyproject.toml) ... \u001b[?25l\u001b[?25herror\n",
            "\u001b[31m  ERROR: Failed building wheel for pygraphviz\u001b[0m\u001b[31m\n",
            "\u001b[0mFailed to build pygraphviz\n",
            "\u001b[31mERROR: Could not build wheels for pygraphviz, which is required to install pyproject.toml-based projects\u001b[0m\u001b[31m\n",
            "\u001b[0m"
          ]
        }
      ]
    },
    {
      "cell_type": "code",
      "source": [
        "import spacy\n",
        "import networkx as nx\n",
        "import matplotlib.pyplot as plt\n",
        "from owlready2 import *\n",
        "import pygraphviz as pgv\n",
        "\n",
        "# Carregar o modelo de linguagem do spaCy\n",
        "nlp = spacy.load('en_core_web_sm')\n",
        "\n",
        "# Exemplo de corpus\n",
        "corpus = [\"Barack Obama was the 44th president of the United States.\",\n",
        "          \"He was born in Hawaii.\"]\n",
        "\n",
        "# Pré-processamento do texto\n",
        "docs = [nlp(text) for text in corpus]\n",
        "\n",
        "# Extração de entidades e relações\n",
        "entities = set()\n",
        "relations = []\n",
        "\n",
        "for doc in docs:\n",
        "    for ent in doc.ents:\n",
        "        entities.add((ent.text, ent.label_))\n",
        "    for sent in doc.sents:\n",
        "        for ent1 in sent.ents:\n",
        "            for ent2 in sent.ents:\n",
        "                if ent1 != ent2:\n",
        "                    relations.append((ent1.text, ent2.text))\n",
        "\n",
        "# Construção do grafo de conhecimento\n",
        "G = nx.Graph()\n",
        "\n",
        "# Adicionar nós e arestas ao grafo\n",
        "for entity in entities:\n",
        "    G.add_node(entity[0], label=entity[1])\n",
        "\n",
        "for rel in relations:\n",
        "    G.add_edge(rel[0], rel[1])\n",
        "\n",
        "# Visualizar o grafo\n",
        "pos = nx.spring_layout(G)\n",
        "nx.draw(G, pos, with_labels=True, node_size=3000, node_color='skyblue', font_size=10, font_weight='bold')\n",
        "plt.show()\n",
        "\n",
        "# Desenvolvimento de uma ontologia\n",
        "# Criação de uma nova ontologia\n",
        "onto = get_ontology(\"http://example.org/onto.owl\")\n",
        "\n",
        "with onto:\n",
        "    class Person(Thing):\n",
        "        pass\n",
        "    class Place(Thing):\n",
        "        pass\n",
        "    class Event(Thing):\n",
        "        pass\n",
        "    class born_in(Person >> Place):\n",
        "        pass\n",
        "    class president_of(Person >> Place):\n",
        "        pass\n",
        "\n",
        "# Adicionar instâncias à ontologia\n",
        "barack = Person(\"Barack_Obama\")\n",
        "usa = Place(\"United_States\")\n",
        "hawaii = Place(\"Hawaii\")\n",
        "\n",
        "# Adicionar relações\n",
        "born_in(barack, hawaii)\n",
        "president_of(barack, usa)\n",
        "\n",
        "# Salvar a ontologia\n",
        "onto.save(file=\"ontology.owl\", format=\"rdfxml\")\n",
        "\n",
        "# Plotar a ontologia\n",
        "def plot_ontology(onto):\n",
        "    dot = pgv.AGraph(strict=False, directed=True)\n",
        "\n",
        "    for cls in onto.classes():\n",
        "        dot.add_node(cls.name)\n",
        "\n",
        "    for prop in onto.properties():\n",
        "        for domain in prop.domains:\n",
        "            for range in prop.ranges:\n",
        "                dot.add_edge(domain.name, range.name, label=prop.name)\n",
        "\n",
        "    dot.layout(prog='dot')\n",
        "    dot.draw('ontology.png')\n",
        "\n",
        "plot_ontology(onto)\n",
        "\n",
        "# Exibir a ontologia\n",
        "from IPython.display import Image\n",
        "Image('ontology.png')\n"
      ],
      "metadata": {
        "colab": {
          "base_uri": "https://localhost:8080/",
          "height": 412
        },
        "id": "aY-p2mfkNCTX",
        "outputId": "e4b0b83a-1e07-4704-dea1-cb3915c5a6e5"
      },
      "execution_count": null,
      "outputs": [
        {
          "output_type": "error",
          "ename": "ModuleNotFoundError",
          "evalue": "No module named 'pygraphviz'",
          "traceback": [
            "\u001b[0;31m---------------------------------------------------------------------------\u001b[0m",
            "\u001b[0;31mModuleNotFoundError\u001b[0m                       Traceback (most recent call last)",
            "\u001b[0;32m<ipython-input-4-0ad6c3550315>\u001b[0m in \u001b[0;36m<cell line: 5>\u001b[0;34m()\u001b[0m\n\u001b[1;32m      3\u001b[0m \u001b[0;32mimport\u001b[0m \u001b[0mmatplotlib\u001b[0m\u001b[0;34m.\u001b[0m\u001b[0mpyplot\u001b[0m \u001b[0;32mas\u001b[0m \u001b[0mplt\u001b[0m\u001b[0;34m\u001b[0m\u001b[0;34m\u001b[0m\u001b[0m\n\u001b[1;32m      4\u001b[0m \u001b[0;32mfrom\u001b[0m \u001b[0mowlready2\u001b[0m \u001b[0;32mimport\u001b[0m \u001b[0;34m*\u001b[0m\u001b[0;34m\u001b[0m\u001b[0;34m\u001b[0m\u001b[0m\n\u001b[0;32m----> 5\u001b[0;31m \u001b[0;32mimport\u001b[0m \u001b[0mpygraphviz\u001b[0m \u001b[0;32mas\u001b[0m \u001b[0mpgv\u001b[0m\u001b[0;34m\u001b[0m\u001b[0;34m\u001b[0m\u001b[0m\n\u001b[0m\u001b[1;32m      6\u001b[0m \u001b[0;34m\u001b[0m\u001b[0m\n\u001b[1;32m      7\u001b[0m \u001b[0;31m# Carregar o modelo de linguagem do spaCy\u001b[0m\u001b[0;34m\u001b[0m\u001b[0;34m\u001b[0m\u001b[0m\n",
            "\u001b[0;31mModuleNotFoundError\u001b[0m: No module named 'pygraphviz'",
            "",
            "\u001b[0;31m---------------------------------------------------------------------------\u001b[0;32m\nNOTE: If your import is failing due to a missing package, you can\nmanually install dependencies using either !pip or !apt.\n\nTo view examples of installing some common dependencies, click the\n\"Open Examples\" button below.\n\u001b[0;31m---------------------------------------------------------------------------\u001b[0m\n"
          ],
          "errorDetails": {
            "actions": [
              {
                "action": "open_url",
                "actionText": "Open Examples",
                "url": "/notebooks/snippets/importing_libraries.ipynb"
              }
            ]
          }
        }
      ]
    },
    {
      "cell_type": "code",
      "source": [
        "!pip install owlready2\n",
        "!pip install pydot\n",
        "!apt-get install graphviz\n"
      ],
      "metadata": {
        "colab": {
          "base_uri": "https://localhost:8080/"
        },
        "id": "kEkeryCDNxIq",
        "outputId": "057aee69-d007-416d-8c4c-a600ee1c685b"
      },
      "execution_count": null,
      "outputs": [
        {
          "output_type": "stream",
          "name": "stdout",
          "text": [
            "Requirement already satisfied: owlready2 in /usr/local/lib/python3.10/dist-packages (0.46)\n",
            "Requirement already satisfied: pydot in /usr/local/lib/python3.10/dist-packages (1.4.2)\n",
            "Requirement already satisfied: pyparsing>=2.1.4 in /usr/local/lib/python3.10/dist-packages (from pydot) (3.1.2)\n",
            "Reading package lists... Done\n",
            "Building dependency tree... Done\n",
            "Reading state information... Done\n",
            "graphviz is already the newest version (2.42.2-6ubuntu0.1).\n",
            "0 upgraded, 0 newly installed, 0 to remove and 45 not upgraded.\n"
          ]
        }
      ]
    },
    {
      "cell_type": "code",
      "source": [
        "import spacy\n",
        "import networkx as nx\n",
        "import matplotlib.pyplot as plt\n",
        "from owlready2 import *\n",
        "import pydot\n",
        "from IPython.display import Image, display\n",
        "\n",
        "# Carregar o modelo de linguagem do spaCy\n",
        "nlp = spacy.load('en_core_web_sm')\n",
        "\n",
        "# Exemplo de corpus\n",
        "corpus = [\"Barack Obama was the 44th president of the United States.\",\n",
        "          \"He was born in Hawaii.\"]\n",
        "\n",
        "# Pré-processamento do texto\n",
        "docs = [nlp(text) for text in corpus]\n",
        "\n",
        "# Extração de entidades e relações\n",
        "entities = set()\n",
        "relations = []\n",
        "\n",
        "for doc in docs:\n",
        "    for ent in doc.ents:\n",
        "        entities.add((ent.text, ent.label_))\n",
        "    for sent in doc.sents:\n",
        "        for ent1 in sent.ents:\n",
        "            for ent2 in sent.ents:\n",
        "                if ent1 != ent2:\n",
        "                    relations.append((ent1.text, ent2.text))\n",
        "\n",
        "# Construção do grafo de conhecimento\n",
        "G = nx.Graph()\n",
        "\n",
        "# Adicionar nós e arestas ao grafo\n",
        "for entity in entities:\n",
        "    G.add_node(entity[0], label=entity[1])\n",
        "\n",
        "for rel in relations:\n",
        "    G.add_edge(rel[0], rel[1])\n",
        "\n",
        "# Visualizar o grafo\n",
        "pos = nx.spring_layout(G)\n",
        "nx.draw(G, pos, with_labels=True, node_size=3000, node_color='skyblue', font_size=10, font_weight='bold')\n",
        "plt.show()\n",
        "\n",
        "# Desenvolvimento de uma ontologia\n",
        "# Criação de uma nova ontologia\n",
        "onto = get_ontology(\"http://example.org/onto.owl\")\n",
        "\n",
        "with onto:\n",
        "    class Person(Thing):\n",
        "        pass\n",
        "    class Place(Thing):\n",
        "        pass\n",
        "    class Event(Thing):\n",
        "        pass\n",
        "    class born_in(Person >> Place):\n",
        "        pass\n",
        "    class president_of(Person >> Place):\n",
        "        pass\n",
        "\n",
        "# Adicionar instâncias à ontologia\n",
        "barack = Person(\"Barack_Obama\")\n",
        "usa = Place(\"United_States\")\n",
        "hawaii = Place(\"Hawaii\")\n",
        "\n",
        "# Adicionar relações\n",
        "born_in(barack, hawaii)\n",
        "president_of(barack, usa)\n",
        "\n",
        "# Salvar a ontologia\n",
        "onto.save(file=\"ontology.owl\", format=\"rdfxml\")\n",
        "\n",
        "# Plotar a ontologia\n",
        "def plot_ontology(onto):\n",
        "    dot = pydot.Dot(graph_type='digraph')\n",
        "\n",
        "    for cls in onto.classes():\n",
        "        dot.add_node(pydot.Node(cls.name))\n",
        "\n",
        "    for prop in onto.properties():\n",
        "        for domain in prop.domains:\n",
        "            for range in prop.ranges:\n",
        "                dot.add_edge(pydot.Edge(domain.name, range.name, label=prop.name))\n",
        "\n",
        "    dot.write_png('ontology.png')\n",
        "\n",
        "plot_ontology(onto)\n",
        "\n",
        "# Exibir a ontologia\n",
        "display(Image('ontology.png'))\n"
      ],
      "metadata": {
        "colab": {
          "base_uri": "https://localhost:8080/",
          "height": 724
        },
        "id": "hq8Zmej4NyZ1",
        "outputId": "35bd52c4-b1e1-40b1-d1d5-1d031164d3a7"
      },
      "execution_count": null,
      "outputs": [
        {
          "output_type": "display_data",
          "data": {
            "text/plain": [
              "<Figure size 640x480 with 1 Axes>"
            ],
            "image/png": "[encoded data removed]"
          },
          "metadata": {}
        },
        {
          "output_type": "error",
          "ename": "TypeError",
          "evalue": "born_in() takes no arguments",
          "traceback": [
            "\u001b[0;31m---------------------------------------------------------------------------\u001b[0m",
            "\u001b[0;31mTypeError\u001b[0m                                 Traceback (most recent call last)",
            "\u001b[0;32m<ipython-input-6-6d8116a5a7e0>\u001b[0m in \u001b[0;36m<cell line: 68>\u001b[0;34m()\u001b[0m\n\u001b[1;32m     66\u001b[0m \u001b[0;34m\u001b[0m\u001b[0m\n\u001b[1;32m     67\u001b[0m \u001b[0;31m# Adicionar relações\u001b[0m\u001b[0;34m\u001b[0m\u001b[0;34m\u001b[0m\u001b[0m\n\u001b[0;32m---> 68\u001b[0;31m \u001b[0mborn_in\u001b[0m\u001b[0;34m(\u001b[0m\u001b[0mbarack\u001b[0m\u001b[0;34m,\u001b[0m \u001b[0mhawaii\u001b[0m\u001b[0;34m)\u001b[0m\u001b[0;34m\u001b[0m\u001b[0;34m\u001b[0m\u001b[0m\n\u001b[0m\u001b[1;32m     69\u001b[0m \u001b[0mpresident_of\u001b[0m\u001b[0;34m(\u001b[0m\u001b[0mbarack\u001b[0m\u001b[0;34m,\u001b[0m \u001b[0musa\u001b[0m\u001b[0;34m)\u001b[0m\u001b[0;34m\u001b[0m\u001b[0;34m\u001b[0m\u001b[0m\n\u001b[1;32m     70\u001b[0m \u001b[0;34m\u001b[0m\u001b[0m\n",
            "\u001b[0;31mTypeError\u001b[0m: born_in() takes no arguments"
          ]
        }
      ]
    },
    {
      "cell_type": "code",
      "source": [
        "# tentativa 3, cho que estou rpetindo\n",
        "\n",
        "!pip install owlready2\n",
        "!pip install pydot\n",
        "!apt-get install graphviz\n"
      ],
      "metadata": {
        "colab": {
          "base_uri": "https://localhost:8080/"
        },
        "id": "Q4s5smPfOCWj",
        "outputId": "800dd91a-4c6b-4f26-b286-1a9892d088d2"
      },
      "execution_count": null,
      "outputs": [
        {
          "output_type": "stream",
          "name": "stdout",
          "text": [
            "Requirement already satisfied: owlready2 in /usr/local/lib/python3.10/dist-packages (0.46)\n",
            "Requirement already satisfied: pydot in /usr/local/lib/python3.10/dist-packages (1.4.2)\n",
            "Requirement already satisfied: pyparsing>=2.1.4 in /usr/local/lib/python3.10/dist-packages (from pydot) (3.1.2)\n",
            "Reading package lists... Done\n",
            "Building dependency tree... Done\n",
            "Reading state information... Done\n",
            "graphviz is already the newest version (2.42.2-6ubuntu0.1).\n",
            "0 upgraded, 0 newly installed, 0 to remove and 45 not upgraded.\n"
          ]
        }
      ]
    },
    {
      "cell_type": "code",
      "source": [
        "import spacy\n",
        "import networkx as nx\n",
        "import matplotlib.pyplot as plt\n",
        "from owlready2 import *\n",
        "import pydot\n",
        "from IPython.display import Image, display\n",
        "\n",
        "# Carregar o modelo de linguagem do spaCy\n",
        "nlp = spacy.load('en_core_web_sm')\n",
        "\n",
        "# Exemplo de corpus\n",
        "corpus = [\"Barack Obama was the 44th president of the United States.\",\n",
        "          \"He was born in Hawaii.\"]\n",
        "\n",
        "# Pré-processamento do texto\n",
        "docs = [nlp(text) for text in corpus]\n",
        "\n",
        "# Extração de entidades e relações\n",
        "entities = set()\n",
        "relations = []\n",
        "\n",
        "for doc in docs:\n",
        "    for ent in doc.ents:\n",
        "        entities.add((ent.text, ent.label_))\n",
        "    for sent in doc.sents:\n",
        "        for ent1 in sent.ents:\n",
        "            for ent2 in sent.ents:\n",
        "                if ent1 != ent2:\n",
        "                    relations.append((ent1.text, ent2.text))\n",
        "\n",
        "# Construção do grafo de conhecimento\n",
        "G = nx.Graph()\n",
        "\n",
        "# Adicionar nós e arestas ao grafo\n",
        "for entity in entities:\n",
        "    G.add_node(entity[0], label=entity[1])\n",
        "\n",
        "for rel in relations:\n",
        "    G.add_edge(rel[0], rel[1])\n",
        "\n",
        "\n",
        "print(\"graf\")\n",
        "# Visualizar o grafo\n",
        "pos = nx.spring_layout(G)\n",
        "nx.draw(G, pos, with_labels=True, node_size=3000, node_color='skyblue', font_size=10, font_weight='bold')\n",
        "plt.show()\n",
        "\n",
        "# Desenvolvimento de uma ontologia\n",
        "# Criação de uma nova ontologia\n",
        "onto = get_ontology(\"http://example.org/onto.owl\")\n",
        "\n",
        "with onto:\n",
        "    class Person(Thing):\n",
        "        pass\n",
        "    class Place(Thing):\n",
        "        pass\n",
        "    class Event(Thing):\n",
        "        pass\n",
        "    class born_in(Person >> Place):\n",
        "        pass\n",
        "    class president_of(Person >> Place):\n",
        "        pass\n",
        "\n",
        "# Adicionar instâncias à ontologia\n",
        "barack = Person(\"Barack_Obama\")\n",
        "usa = Place(\"United_States\")\n",
        "hawaii = Place(\"Hawaii\")\n",
        "\n",
        "# Adicionar relações\n",
        "barack.born_in.append(hawaii)\n",
        "barack.president_of.append(usa)\n",
        "\n",
        "# Salvar a ontologia\n",
        "onto.save(file=\"ontology.owl\", format=\"rdfxml\")\n",
        "\n",
        "# Plotar a ontologia\n",
        "def plot_ontology(onto):\n",
        "    dot = pydot.Dot(graph_type='digraph')\n",
        "\n",
        "    for cls in onto.classes():\n",
        "        dot.add_node(pydot.Node(cls.name))\n",
        "\n",
        "    for prop in onto.properties():\n",
        "        for domain in prop.domain:\n",
        "            for range in prop.range:\n",
        "                dot.add_edge(pydot.Edge(domain.name, range.name, label=prop.name))\n",
        "\n",
        "    dot.write_png('ontology.png')\n",
        "\n",
        "plot_ontology(onto)\n",
        "\n",
        "\n",
        "print(\"onto:\")\n",
        "\n",
        "# Exibir a ontologia\n",
        "display(Image('ontology.png'))\n"
      ],
      "metadata": {
        "colab": {
          "base_uri": "https://localhost:8080/",
          "height": 729
        },
        "id": "gkNGjL-1OG1y",
        "outputId": "702443e6-c7b7-4c56-84fd-2846db629442"
      },
      "execution_count": null,
      "outputs": [
        {
          "output_type": "stream",
          "name": "stdout",
          "text": [
            "graf\n"
          ]
        },
        {
          "output_type": "display_data",
          "data": {
            "text/plain": [
              "<Figure size 640x480 with 1 Axes>"
            ],
            "image/png": "[encoded data removed]"
          },
          "metadata": {}
        },
        {
          "output_type": "stream",
          "name": "stdout",
          "text": [
            "onto:\n"
          ]
        },
        {
          "output_type": "display_data",
          "data": {
            "image/png": "[encoded data removed]",
            "text/plain": [
              "<IPython.core.display.Image object>"
            ]
          },
          "metadata": {}
        }
      ]
    }
  ]
}