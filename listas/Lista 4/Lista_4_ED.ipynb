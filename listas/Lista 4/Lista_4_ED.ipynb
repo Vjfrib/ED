{
  "nbformat": 4,
  "nbformat_minor": 0,
  "metadata": {
    "colab": {
      "provenance": [],
      "include_colab_link": true
    },
    "kernelspec": {
      "name": "python3",
      "display_name": "Python 3"
    },
    "language_info": {
      "name": "python"
    }
  },
  "cells": [
    {
      "cell_type": "markdown",
      "metadata": {
        "id": "view-in-github",
        "colab_type": "text"
      },
      "source": [
        "<a href=\"https://colab.research.google.com/github/Vjfrib/ED/blob/main/Lista_4_ED.ipynb\" target=\"_parent\"><img src=\"https://colab.research.google.com/assets/colab-badge.svg\" alt=\"Open In Colab\"/></a>"
      ]
    },
    {
      "cell_type": "markdown",
      "source": [
        "# Ultima Lista - ED\n",
        "*Prof. Dr. Cleyton Mário*\n",
        "<br>\n",
        "*Disc. Vinícius Ribeiro*\n",
        "\n",
        "@Github on <a style=\"color: white; text-decoration: none;\" href=\"https://github.com/Vjfrib/ED/\">https://github.com/Vjfrib/ED</a>, then <a href=\"https://github.com/Vjfrib/ED/blob/main/listas/lista_1_ed.ipynb\">listas/lista_4_ed.ipynb</a>"
      ],
      "metadata": {
        "id": "aGiw5QPH5-Kv"
      }
    },
    {
      "cell_type": "markdown",
      "source": [
        "**negrito**## Lista 4 – Árvores\n",
        "\n",
        "## Lista 4 – Complexidade e Ordenação\n",
        "\n",
        "1. Pesquise e descreva como árvores são usadas na Teoria da Computação e na\n",
        "implementação de compiladores/interpretadores. Também, pesquise sobre um\n",
        "outro tipo de árvore (Árvores Rubro-Negras, Árvores B, Árvores de Huffman, Árvores Merkle, ou alguma outra, exceto árvores AVL), explique seu conceito, aplicação, e diferenças para as árvores binárias.\n",
        "2. Implemente um código para verificar se uma dada árvore é, de fato, uma árvore\n",
        "binária.\n",
        "3. Implemente um código para fazer inclusão/exclusão em árvores binárias.\n",
        "4. Faça uma modificação no código de inclusão para informar, em cada nó, a quantidade de nós repetidos. Em seguida, modifique o código de exclusão para que, antes de deletar o valor, verifique se há nós repetidos e, em caso positivo, só decremente a quantidade. Em caso negativo, prossiga com a exclusão.\n",
        "5. Forneça o código da rotação de árvores AVL que sua equipe ficou em sala de aula."
      ],
      "metadata": {
        "id": "DVnp0C-Y6Qyg"
      }
    },
    {
      "cell_type": "markdown",
      "source": [
        "## Recomendações:\n",
        "\n",
        "- Prazo: 24/07/2024\n",
        "<br>\n",
        "- Ɵ OBS.: Para as listas será preciso enviar um documento com as respostas e um link de um vídeo\n",
        "onde o discente deverá explicar cada questão. As questões não serão pontuadas caso este link\n",
        "não seja enviado. O aluno não precisa aparecer no vídeo. Basta gravar sua voz explicando as\n",
        "questões. Os códigos precisam ser explicados passo-a-passo.\n"
      ],
      "metadata": {
        "id": "lSHC0Hrw6YvL"
      }
    },
    {
      "cell_type": "markdown",
      "source": [
        "## Resoluções"
      ],
      "metadata": {
        "id": "qnBWRLMf65gJ"
      }
    },
    {
      "cell_type": "markdown",
      "source": [
        "### 1. Pesquise e descreva como árvores são usadas na Teoria da Computação e na implementação de compiladores/interpretadores. Também, pesquise sobre um outro tipo de árvore (Árvores Rubro-Negras, Árvores B, Árvores de Huffman, Árvores Merkle, ou alguma outra, exceto árvores AVL), explique seu conceito, aplicação, e diferenças para as árvores binárias."
      ],
      "metadata": {
        "id": "xLgJuyOv6-2P"
      }
    },
    {
      "cell_type": "code",
      "source": [
        "'''\n",
        "Implementação 1\n",
        "'''\n",
        "\n",
        "# Código"
      ],
      "metadata": {
        "id": "cs7d4gBr7FvW"
      },
      "execution_count": null,
      "outputs": []
    },
    {
      "cell_type": "markdown",
      "source": [
        "### 2. Implemente um código para verificar se uma dada árvore é, de fato, uma árvore binária."
      ],
      "metadata": {
        "id": "0E-J0OU09suX"
      }
    },
    {
      "cell_type": "code",
      "source": [
        "'''\n",
        "Implementação 2\n",
        "'''\n",
        "\n",
        "# Código"
      ],
      "metadata": {
        "id": "xfAFe_qH9us6"
      },
      "execution_count": null,
      "outputs": []
    },
    {
      "cell_type": "markdown",
      "source": [
        "### 3. Implemente um código para fazer inclusão/exclusão em árvores binárias."
      ],
      "metadata": {
        "id": "QGWA_TZr9ylL"
      }
    },
    {
      "cell_type": "code",
      "source": [
        "'''\n",
        "Implementação 3\n",
        "'''\n",
        "\n",
        "# Código"
      ],
      "metadata": {
        "id": "4LdmiIAa90kM"
      },
      "execution_count": null,
      "outputs": []
    },
    {
      "cell_type": "markdown",
      "source": [
        "### 4. Faça uma modificação no código de inclusão para informar, em cada nó, a quantidade de nós repetidos. Em seguida, modifique o código de exclusão para que, antes de deletar o valor, verifique se há nós repetidos e, em caso positivo, só decremente a quantidade. Em caso negativo, prossiga com a exclusão."
      ],
      "metadata": {
        "id": "1bKrFRv291Rs"
      }
    },
    {
      "cell_type": "code",
      "source": [
        "'''\n",
        "Implementação 4\n",
        "'''\n",
        "\n",
        "# Código\n"
      ],
      "metadata": {
        "id": "tgF1TN2iOQPX"
      },
      "execution_count": null,
      "outputs": []
    },
    {
      "cell_type": "markdown",
      "source": [
        "### 5. Forneça o código da rotação de árvores AVL que sua equipe ficou em sala de aula."
      ],
      "metadata": {
        "id": "R_tCXYiW939X"
      }
    },
    {
      "cell_type": "code",
      "source": [
        "'''\n",
        "Implementação 5\n",
        "'''\n",
        "\n",
        "# Código"
      ],
      "metadata": {
        "id": "g43fKDp_97ZT"
      },
      "execution_count": null,
      "outputs": []
    },
    {
      "cell_type": "markdown",
      "source": [
        "# Disponivel em:\n",
        "\n",
        "> link aqui"
      ],
      "metadata": {
        "id": "SIOmBq6cx0rr"
      }
    },
    {
      "cell_type": "markdown",
      "source": [
        "# ╰(*°▽°*)╯《見てくれてありがとう！！！》"
      ],
      "metadata": {
        "id": "ErQFpoJg-Tn8"
      }
    }
  ]
}