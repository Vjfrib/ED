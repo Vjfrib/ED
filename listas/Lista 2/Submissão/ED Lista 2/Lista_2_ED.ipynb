{
  "nbformat": 4,
  "nbformat_minor": 0,
  "metadata": {
    "colab": {
      "provenance": [],
      "include_colab_link": true
    },
    "kernelspec": {
      "name": "python3",
      "display_name": "Python 3"
    },
    "language_info": {
      "name": "python"
    }
  },
  "cells": [
    {
      "cell_type": "markdown",
      "metadata": {
        "id": "view-in-github",
        "colab_type": "text"
      },
      "source": [
        "<a href=\"https://colab.research.google.com/github/Vjfrib/ED/blob/main/listas/Lista%202/Submiss%C3%A3o/ED%20Lista%202/Lista_2_ED.ipynb\" target=\"_parent\"><img src=\"https://colab.research.google.com/assets/colab-badge.svg\" alt=\"Open In Colab\"/></a>"
      ]
    },
    {
      "cell_type": "markdown",
      "source": [
        "# Lista 2 - ED\n",
        "*Prof. Dr. Cleyton Mário*\n",
        "<br>\n",
        "*Disc. Vinícius Ribeiro*\n",
        "\n",
        "@Github on <a style=\"color: white; text-decoration: none;\" href=\"https://github.com/Vjfrib/ED/\">https://github.com/Vjfrib/ED</a>, then <a href=\"https://github.com/Vjfrib/ED/blob/main/listas/lista_1_ed.ipynb\">listas/lista_2_ed.ipynb</a>"
      ],
      "metadata": {
        "id": "aGiw5QPH5-Kv"
      }
    },
    {
      "cell_type": "markdown",
      "source": [
        "## Lista Completa:\n",
        "\n",
        "1. Implemente uma estrutura de Dados tipo Deque usando Listas Encadeadas. É importante que o TAD possua as 4 operações para remover e inserir dados de ambas as extremidades. Comente sobre o tipo de Lista Encadeada escolhida para implementação.\n",
        "\n",
        "2. Ajuste o código anterior para criar uma função remover_duplicatas(fila) que recebe uma fila como argumento e remove todas as duplicatas, deixando apenas a primeira ocorrência de cada elemento na fila.\n",
        "\n",
        "3. Implemente uma fila circular utilizando um deque. A fila circular possui um tamanho máximo e, quando atinge esse tamanho, o próximo elemento a ser inserido substitui o elemento mais antigo da fila. Crie funções para inserir elementos na fila (enqueue), remover elementos da fila (dequeue) e exibir os elementos da fila.\n",
        "\n",
        "4. Escreva uma função em Python que recebe uma pilha como entrada e inverte a ordem dos elementos utilizando apenas uma pilha adicional.\n",
        "\n",
        "5. Crie duas Pilhas com diferentes implementações: Uma usando collections.deque, e a outra usando Lista Encadeadas. Faça inserções e remoções nas pilhas criadas na questão anterior e discuta qual das duas implementações aparenta ser mais eficiente e o porquê."
      ],
      "metadata": {
        "id": "DVnp0C-Y6Qyg"
      }
    },
    {
      "cell_type": "markdown",
      "source": [
        "## Recomendações:\n",
        "\n",
        "- Prazo: 19/05/2024\n",
        "<br>\n",
        "- Ɵ OBS.: Para as listas será preciso enviar um documento com as respostas e um link de um vídeo\n",
        "onde o discente deverá explicar cada questão. As questões não serão pontuadas caso este link\n",
        "não seja enviado. O aluno não precisa aparecer no vídeo. Basta gravar sua voz explicando as\n",
        "questões. Os códigos precisam ser explicados passo-a-passo.\n"
      ],
      "metadata": {
        "id": "lSHC0Hrw6YvL"
      }
    },
    {
      "cell_type": "markdown",
      "source": [
        "## Resoluções"
      ],
      "metadata": {
        "id": "qnBWRLMf65gJ"
      }
    },
    {
      "cell_type": "markdown",
      "source": [
        "### 1. Implemente uma estrutura de Dados tipo Deque usando Listas Encadeadas. É importante que o TAD possua as 4 operações para remover e inserir dados de ambas as extremidades. Comente sobre o tipo de Lista Encadeada escolhida para implementação."
      ],
      "metadata": {
        "id": "xLgJuyOv6-2P"
      }
    },
    {
      "cell_type": "code",
      "source": [
        "'''\n",
        "Implementação 1\n",
        "\n",
        "farei com listas duplamente encadeadas, acredito serem as mais robustas\n",
        "'''\n",
        "\n",
        "# Código, protótipo\n",
        "\n",
        "class Deck:\n",
        "  def __init__(self): # Construtor\n",
        "    self.dados = []\n",
        "\n",
        "\n",
        "  def addFrente(self, valor):\n",
        "    return self.dados.insert(0, valor) # Adiciona um valor na frente (pelo índice[0])\n",
        "  def removeFrente(self):\n",
        "    return self.dados.pop(0) # Remove o valor da frente [o índice]\n",
        "\n",
        "  def addTras(self, valor):\n",
        "    return self.dados.append(valor) # Adiciona um valor na traseira do deque.\n",
        "  def removeTras(self):\n",
        "    return self.dados.pop() # Remove da traseira. Segue a logica da lista\n"
      ],
      "metadata": {
        "id": "cs7d4gBr7FvW"
      },
      "execution_count": 1,
      "outputs": []
    },
    {
      "cell_type": "code",
      "source": [
        "'''\n",
        "#tinha tentado um retorno diferente, mas nem com casting funcionou\n",
        "\n",
        "  \"\"\"coloquei return pra ver se há a possibilidade de voltar o valor. somei com a string do verbo que diz o que aconteceu\"\"\"\n",
        "  def addFrente(self, valor):\n",
        "    return \"somou Tras \" + str(self.dados.insert(0, valor)) # Adiciona um valor na frente (pelo índice[0])\n",
        "  def removeFrente(self):\n",
        "    return \"tirou Frente \" + str(self.dados.pop(0)) # Remove o valor da frente [o índice]\n",
        "\n",
        "  def addTras(self, valor):\n",
        "    return \"somou Tras \" + str(self.dados.append(valor)) # Adiciona um valor na traseira do deque.\n",
        "  def removeTras(self):\n",
        "    return \"tirou Tras \" + str(self.dados.pop()) # Remove da traseira. Segue a logica da lista\n",
        "\n",
        "'''"
      ],
      "metadata": {
        "id": "_wWEtAquND93",
        "colab": {
          "base_uri": "https://localhost:8080/",
          "height": 105
        },
        "outputId": "dc32428a-8120-4d3c-8327-0ff6b8fc774b"
      },
      "execution_count": 2,
      "outputs": [
        {
          "output_type": "execute_result",
          "data": {
            "text/plain": [
              "'\\n#tinha tentado um retorno diferente, mas nem com casting funcionou\\n\\n  \"\"\"coloquei return pra ver se há a possibilidade de voltar o valor. somei com a string do verbo que diz o que aconteceu\"\"\"\\n  def addFrente(self, valor):\\n    return \"somou Tras \" + str(self.dados.insert(0, valor)) # Adiciona um valor na frente (pelo índice[0])\\n  def removeFrente(self):\\n    return \"tirou Frente \" + str(self.dados.pop(0)) # Remove o valor da frente [o índice]\\n\\n  def addTras(self, valor):\\n    return \"somou Tras \" + str(self.dados.append(valor)) # Adiciona um valor na traseira do deque.\\n  def removeTras(self):\\n    return \"tirou Tras \" + str(self.dados.pop()) # Remove da traseira. Segue a logica da lista\\n\\n'"
            ],
            "application/vnd.google.colaboratory.intrinsic+json": {
              "type": "string"
            }
          },
          "metadata": {},
          "execution_count": 2
        }
      ]
    },
    {
      "cell_type": "code",
      "source": [
        "InstanciaDeckDoVini = Deck()\n",
        "\n",
        "print(\"Inicializando c/: \", InstanciaDeckDoVini.dados)\n",
        "InstanciaDeckDoVini.addFrente(10)\n",
        "print(\"deps d por na frente: \", InstanciaDeckDoVini.dados)\n",
        "\n",
        "InstanciaDeckDoVini.addTras(20)\n",
        "print(\"deps d por atras: \", InstanciaDeckDoVini.dados)\n",
        "\n",
        "InstanciaDeckDoVini.addFrente(5)\n",
        "print(\"mais um na frente: \", InstanciaDeckDoVini.dados)\n",
        "\n",
        "print(\"tira ela: \", InstanciaDeckDoVini.removeFrente(),\"so...: \", InstanciaDeckDoVini.dados)\n",
        "print(\"tira a ultima: \", InstanciaDeckDoVini.removeTras(),\"so...: \", InstanciaDeckDoVini.dados)\n",
        "print(\"ficou só a primeira:\", InstanciaDeckDoVini.removeFrente(),\"so...: \", InstanciaDeckDoVini.dados)"
      ],
      "metadata": {
        "colab": {
          "base_uri": "https://localhost:8080/"
        },
        "id": "Yqifu9pKH6D9",
        "outputId": "40df06d7-9e2b-41c8-a80a-9da82f5a1aa5"
      },
      "execution_count": 10,
      "outputs": [
        {
          "output_type": "stream",
          "name": "stdout",
          "text": [
            "Inicializando c/:  []\n",
            "deps d por na frente:  [10]\n",
            "deps d por atras:  [10, 20]\n",
            "mais um na frente:  [5, 10, 20]\n",
            "tira ela:  5 so...:  [10, 20]\n",
            "tira a ultima:  20 so...:  [10]\n",
            "ficou só a primeira: 10 so...:  []\n"
          ]
        }
      ]
    },
    {
      "cell_type": "markdown",
      "source": [
        "### 2. Ajuste o código anterior para criar uma função remover_duplicatas(fila) que recebe uma fila como argumento e remove todas as duplicatas, deixando apenas a primeira ocorrência de cada elemento na fila."
      ],
      "metadata": {
        "id": "0E-J0OU09suX"
      }
    },
    {
      "cell_type": "code",
      "source": [
        "'''\n",
        "Implementação 2\n",
        "'''\n",
        "\n",
        "# Código\n",
        "\n",
        "class DeckBuffado(Deck): # Classe dequeBuffado, filha (subclasse) de deque. com mais funcionalidades\n",
        "  def removeDuplas(self):\n",
        "    elemNovos = [] # Nov lista, que vai carregar\n",
        "\n",
        "    for elemento in self.dados: # itera pelo tamanho da qnt. de dados\n",
        "      if elemento not in elemNovos: # condição \"se não já tiver o elemento, coloque na lista\". os que passarem e n tiverem no append é pq estão repetidos\n",
        "        elemNovos.append(elemento) # Dá appnd nos elementos novos\n",
        "\n",
        "        self.dados = elemNovos # no fim, entrega os elemenos em repetição pra os dados da instância\n",
        "\n",
        "  def exibe(self): # self recupera os dados da instancia, que é dekBuff e tbm um dek\n",
        "    return self.dados\n"
      ],
      "metadata": {
        "id": "xfAFe_qH9us6"
      },
      "execution_count": 3,
      "outputs": []
    },
    {
      "cell_type": "code",
      "source": [
        "# Exemplo de execução\n",
        "\n",
        "baralho = DeckBuffado() # Criando uma instância de DequeBuffado\n",
        "\n",
        "# Adicionando alguns valores\n",
        "print(\"Adicionado\", baralho.addFrente(1)) # por algum motivo, o retorno é none.\n",
        "baralho.addFrente(2)\n",
        "baralho.addTras(3)\n",
        "baralho.addTras(1)\n",
        "baralho.addTras(2)\n",
        "baralho.addTras(4)\n",
        "\n",
        "print(\"Deque Atual:\", baralho.exibe()) # Debug 1\n",
        "\n",
        "baralho.removeDuplas() # Removendo duplicatas\n",
        "print(\"Deque sem duplas:\", baralho.exibe()) # Debug 2\n",
        "\n",
        "# Removendo elementos\n",
        "print(\"Removendo da frente:\", baralho.removeFrente())\n",
        "print(\"Removendo da traseira:\", baralho.removeTras())\n",
        "\n",
        "print(\"Deque Atual:\", baralho.exibe()) # Debug 3"
      ],
      "metadata": {
        "colab": {
          "base_uri": "https://localhost:8080/"
        },
        "id": "brzsz97TKFV5",
        "outputId": "66e8dd93-4c67-44cb-c2b1-7c83e042ad8a"
      },
      "execution_count": 4,
      "outputs": [
        {
          "output_type": "stream",
          "name": "stdout",
          "text": [
            "Adicionado None\n",
            "Deque Atual: [2, 1, 3, 1, 2, 4]\n",
            "Deque sem duplas: [2, 1, 3, 4]\n",
            "Removendo da frente: 2\n",
            "Removendo da traseira: 4\n",
            "Deque Atual: [1, 3]\n"
          ]
        }
      ]
    },
    {
      "cell_type": "markdown",
      "source": [
        "### 3. Implemente uma fila circular utilizando um deque. A fila circular possui um tamanho máximo e, quando atinge esse tamanho, o próximo elemento a ser inserido substitui o elemento mais antigo da fila. Crie funções para inserir elementos na fila (enqueue), remover elementos da fila (dequeue) e exibir os elementos da fila."
      ],
      "metadata": {
        "id": "QGWA_TZr9ylL"
      }
    },
    {
      "cell_type": "code",
      "source": [
        "'''\n",
        "Implementação 3\n",
        "'''\n",
        "\n",
        "# Código\n",
        "\n",
        "class FilaCircular:\n",
        "    def __init__(self, tamanho_maximo):\n",
        "        self.dados = []\n",
        "        self.tamanho_maximo = tamanho_maximo\n",
        "        self.tamanho_atual = 0\n",
        "\n",
        "    def enqueue(self, valor):\n",
        "        if self.tamanho_atual < self.tamanho_maximo:\n",
        "            self.dados.append(valor)\n",
        "            self.tamanho_atual += 1\n",
        "        else:\n",
        "            # Fila está cheia, substitui o elemento mais antigo\n",
        "            self.dados[0] = valor # Remove o elemento mais antigo\n",
        "            # self.dados.append(valor)  # Adiciona o novo elemento\n",
        "\n",
        "    def dequeue(self):\n",
        "        if self.tamanho_atual > 0:\n",
        "            valor_removido = self.dados.pop(0)\n",
        "            self.tamanho_atual -= 1\n",
        "            return valor_removido\n",
        "        else:\n",
        "            return \"Fila vazia\"\n",
        "\n",
        "    def exibir(self):\n",
        "        return self.dados\n"
      ],
      "metadata": {
        "id": "4LdmiIAa90kM"
      },
      "execution_count": 19,
      "outputs": []
    },
    {
      "cell_type": "code",
      "source": [
        "fila = FilaCircular(5)  # Criando uma fila circular com tamanho máximo de 5 elementos\n",
        "fila.enqueue(1)\n",
        "fila.enqueue(2)\n",
        "fila.enqueue(3)\n",
        "fila.enqueue(4)\n",
        "print(\"Fila Atual:\", fila.exibir())\n",
        "\n",
        "fila.enqueue(\"final\")\n",
        "print(\"Fila Atual:\", fila.exibir())\n",
        "\n",
        "fila.enqueue(\"b\")  # o b substituirá o elemento mais antigo (o \"1\")\n",
        "print(\"Fila Atual:\", fila.exibir())\n",
        "\n",
        "print(\"Removendo da fila:\", fila.dequeue())\n",
        "print(\"Fila Atual:\", fila.exibir())"
      ],
      "metadata": {
        "colab": {
          "base_uri": "https://localhost:8080/"
        },
        "id": "Qga7UGy-LHI3",
        "outputId": "37726fa4-9cbc-4700-f4cf-9040c7ae6811"
      },
      "execution_count": 20,
      "outputs": [
        {
          "output_type": "stream",
          "name": "stdout",
          "text": [
            "Fila Atual: [1, 2, 3, 4]\n",
            "Fila Atual: [1, 2, 3, 4, 'final']\n",
            "Fila Atual: ['b', 2, 3, 4, 'final']\n",
            "Removendo da fila: b\n",
            "Fila Atual: [2, 3, 4, 'final']\n"
          ]
        }
      ]
    },
    {
      "cell_type": "markdown",
      "source": [
        "### 4. Escreva uma função em Python que recebe uma pilha como entrada e inverte a ordem dos elementos utilizando apenas uma pilha adicional."
      ],
      "metadata": {
        "id": "1bKrFRv291Rs"
      }
    },
    {
      "cell_type": "markdown",
      "source": [
        "### Inversão - pilha p/ pilha\n",
        "\n",
        "<p style=\"text-align: center;\">\n",
        "concept\n",
        "\n",
        "![image.png](data:image/png;base64,iVBORw0KGgoAAAANSUhEUgAAAdgAAAFBCAYAAADUsL4SAAAAAXNSR0IArs4c6QAAAARnQU1BAACxjwv8YQUAAAAJcEhZcwAADsMAAA7DAcdvqGQAAFZTSURBVHhe7Z0HXFX1+8cfmYqgCDgYDtwDR64cmZqW+tOstF3/hpmWle39y8rShrbLStv+GtqwnSPNNDM19xa3CIooOBgy5H8+j+cSEoggd5xzP29f53XhHGTce+738312pXwDIYQQQkiF4mM+EkIIIaQCocASQgghToACSwghhDgBCiwhhBDiBCiwNiA5OVlmzJghBw4cEOasEUKIZ8AsYhuQmZkpWVlZEhQUJAEBAVKpUiXzCiGEEHdBgSWEEEKcAF3EhBBCiBOgwBJCCCFOgAJLCCGEOAEKLCGEEOIEKLCEEEKIE6DAEkIIIU6AAksIIYQ4AQosIYQQ4gQosIQQQogTYCcnYisO5xyTNalb9ON3tn4lh7OP6cdnyn+iz5OuEW0lqkqE1K4cbp4lhJCyQ4ElludQ9mFJOZ6mx7x9S+X35OV6PsivivhWOnMnzbajCVLZN0BqBtaQ1qFN5Kr6F5lXRGKCaktEYKj5GSGElA4Flng0mXnHJSnzgPmZyI5jiYaQppqfneRQ9hFZdGCVCiws2NwTeVI9oKoMjOohwX5B5lf9Q7ghlBDLav5VzTMn+TnxDzmWmyl7M/bLtmMJUqtymHlFpHN4nMRWjTIEONAQ38Z6LrJKTalifE4IIcVBgSUeQV7+CckyxBSCKvLPLXk0J0Pe3/atJBoie8L4t9WwMiG4/j5+Ut0/2PwqkQAffxW7EEM0e9XqqCJYkvU6b/8yuaB2J2lRPdY8U0n/L8QT/2fLkV3ywoaPZH/WQb2adSK74HcL9AmQptXq6fnxbe+SKENkCSGkOCiwxO1AXI/lZsjSlHWy4ch2yTmRa1iXwZKbnyuVDUEL8asqz65/T7JP5Kiw+hgiGB5QXW5sOMj8DiK1AsOkfViLU6zOkkgwLNTlhzYa1u5Rw+o9rKLaslpD6RwRJ0G+lfVz/AwHjq/flZ4ks5MWy870RENws2XaeS9I05B6xu/kr65lQggpDAWWuJ0tR3fJqtTN0ii4rlqVSRkpMjNpkUzfPUfdwX6V/KRuUB1pFdpQLonpJa2rN5ZKhgBCbB34GFZoUWEsCQj6CRympZyXnycbD++QpQfXqRu4qFA7vh5fBxcy4rxj103Wubu+lXxlSN0LZEzcCPOrCSHkJBRY4hKQiJSUmSKHDIvRwZ8pq/URyUiwQJekrJX4Y7vVFXsk55h6ihEvjQqqKZ3DWkn/qO4qfBUd98w3/jlcwEey0+WnxIXSJrSJCniHsJanCDnEFnHeR1e9LrvT96m72s+43ja0qTzd5jaNy5bkmiaEeBcUWOISfk/+W92qSDpyZPzWCKhmCGm6zN+/TJKyUsS/kr8E+PpJWEB16V6zrV6PrRqtyUiIt8Jt7Ofja35H55CRm6Xividjv1q4u9OTpElIvVOyiCGyCRn7JC37mOxI3ysrDm2SPw6slObVYuXhljcZIhuhMWFCiHdDgSUVCoRTrU+Dg6a1igSlPYYgwbrLyM2UNWnxmg0MJ+1RQ2AriY9hMTaWbjXbSYPgKIkIOJnlG+RXWf+/u8jNz5NNR3bIhsPbjd+nhsZ9a1au8a/EJliy7279Sr7ZM0/6R3aT9mHNpWm1BtIoOIalPYR4MRRYUm5QDgO36vETyPw9ye/JK2SlYdFBaCE04J34ryTCECaw89heqeJb2bBOQ/QR7tSuhrU6vNGlHt3YYevRPbL28FZNeLqmfj89V90/pMB9vMP4u27+60lJzT5qPCdZxkYhWgZGnSdXG1/LhhWEeCcUWFIuYN0hnjoz6U8VF4B4adeI1pKclaplLohPIukIIopkICQFBfkGynk1z9HEoLY1mqrIWglY5T8lLjA2EIfl2gYD1KrF33f8RLasTt2iVizcxYjTIiO5T51z5fFWwyXAEGJkG/sYzwEhxDugwJJysThljaxNi1ch+XDbd+ZZ0YQfZNxCUJERjDKW+lWj5KLILhJqWHyGyqogIUaJx0rGPytxwni75OTn6sef7fxFwgKqGZuKNuo6RmwWpUR4/N+On2SqcaRmH9Ha3FsbXyZDYvoYm5Dq+n8JIfaHAktOiyP7d7thpb4b/5V5VrRuFe5h1KweNT5GXBLJPY56UCQq3dPsuoIGDnh0doKSq8HmAt2fth7dLf0iu5nPwcksYnSXWpC8XD7e/oOsO7xVE7ZwwF18U+zF0iq0EV3HhNgcCiz5F7BAEUONN4RjYfJKtcIWpaxWl6+DmKBa6hIGsEZvaXipYalGFogoRNUbuhw5kroOZKXqZsR4S0mPWudotrQjGxk1vt8lzNevycjL0l7H9zW/Xi6o0/nkNyGE2BIKLCkAgrAv86Baq3szk+WbPXMlLfuoikK2Yam2rB6rzSAQV+0c3koaVI3S/wdRRYmKXyV7WahlAa5hiC2yoxFnDQ0IUSFFFrEjGxkC+9rmz3SoANzm6ETVrkYzLQGq6NpeQoj7ocASrU9Fo4WlB9fLZzt/lvTcTEkxrLHkrIPaRQkZv9GGxXpN/QHSL7LrKY0XyL9BGRK6QsEl3Lt2xwI3OeLNEzd+otYsnmNsXDqEtZAHWtwojY2NS4j/vwcTnA5kcafnZWqpExtcEOJ5UGC9mJMdjLJlp2F1LU5ZLTvTk2RB8gp1BatFZVhicdUbySOtbjYeT06QIWeOowUkxDMutLFuTGDFrji0UTYYFi2Sw2D5QhwfNZ7j3rU7nXGDCvw/fK8Ze+bJskMb5KX296mgU2QJ8RwosF4MkpTGrp0s8/Yv1R676LWLaTEon5lwzr1aUuPr46uLvje7f8sLsomRDLb84AZ1GSOrGs8vziMx7Ld9y+SbhHmyLm2rZhcjKWxwTE/zf5+e7xN+lze2fC6JmSmCt3Cn8FYyru0d6m4mhHgGFFgvo3BW8KT46ZKUcUBdlWiagCzgxiF1NQGHLseKAWKK9ovr0uJl8cE1mnU9tG5fiQ2O1oYUaEyBBhV7M5KlXlAdubPZ1XJOjWanff7hgn567bvaYQrx3pqBYZqI9kTcrSrieB2RxU0IcS8UWC8C3YjQyH6eYTkdNIQW807RlrBJtXradahV9UYSZlhSnHFaseAthpIe9F3GCD644hMNQYXXYFijS2T+/r9lVtJirSvONQT52vr95f9iB0pgCSPwFiav0Gk+yOIeENldVqVtll8SF2k7x7ahTeTu5tdK05D65lcTQtyF71MG5sfEZhzPy5bk44fk70MbZNmh9TJl2wxdzGEZoT0hhpL3qdNZboy9WDqGtdREJjRFIBULOlghyal6QLDGSfEc+1TyVdE9fiJHqvpVkUYhdSXdsHT/Nl4nzJtFGRTKpRC3dQgtrOE9GUkyZ/8SHTCAST8jmwzVVh34vhuP7BBfHx/pFtFW6hhWLCHEvdCCtSGwTGEtwf2IrOBVqVvUhYhuQxhgflFkVxnd7Brzq4m7gLt4ubH5wSNG98FtjwQolERBMOtUCZchdfvI+bXaS53K4Zrpfc+KiTqYHvFzzMZ9qOWNBVnKF8+/WwJ8/XU2Lcp/CCHuhQJrE5ARDAsH2aVIXJqT9JcczU1XCwg9cDGvlEkwng2yjuG+RxvK1WlbdPIQXlPHQHckRg347U6Nmdc1Xsf/RJ2ng+gbBkdJG0NQhyy4T61dCiwhngEF1iYgYcbRbP7XfUvUgm0SUldLP+AyRGYwBpszcclzgZjCms0xNkl4LR9f85ZO70EWN4QTb1XUz2IY/E0NB8uFkV20EciPexcYgtpUHl71umYrU2AJ8Qy42locZAX/ZVg8ty99Th4xFlgky6A0BC7G7jXbyfDGl0mH8BYS7B/kNeIKoYIwocbXSuD1QS9nvFZ4zV5oN1q6RLTRtotoJoHXFZ6KzUd3arx105Gdxt+ap67inBN5+j1Sjx/RcAAhxP0wycmCIPnlwPFUmbZrtjaG2J6+V1akbtL2htX9g+W2JpfLoJjztQE9kl3gJrba1JqzARbgm1umGdZehrpQrdZ5Cq8VfmeUTnUMbyktQxtKs2r1ZcnBdXodrRd3pSdp1jFKdPC1scFRei8gqQ0jABG3JYS4F7qILQSyguH6hZBiFutPOsllj6QYYovEmIy8TLmz6dVyVf1+OkbNW0Ecembin9KyekMtOQrys9bM2eLA4IUbFj+h3ZviQhtpUtP+zIN6DclrsGIPGdbrxzt+kJ61OshTrW8rc+tFQkjFQhexhwI3p/YEPp6mAooD1snXe+aq9YIMUwgt2hpiPilKQFDHipIbbxZXgJglOiKhaYYdxBWgkxa6QKGkp2FwjAyM6iFRQTU14QllPU+tfUc+3zVTco2N1p6MfZpJjuHwmF9LCHEPtGA9DLh/Ia5YOFGOseHIdv0cNDIW1vZhzaVWYJjWtY5Z87aev7b+AOkf1Y0ZwjYFr//6w9vkioUPyjnG6/9iu3t0c4VsY9wvsGYxqxc1tfgctc2Do3vKwew0uap+f0OYz6y/MSGkYqHAehjJWYe0FnKHYZV0Do/T1ne+Zh9gH6lkLKLZ2kD+/hUva1bwIy1vkl61Ooqfjx8zhG3KLuNeeHbde/LHgVVyRb2+clfTa6RGYDUV3oPH0+SDbd8a98xmqeIXKJsO79Dxgf8xLNzY4EgKLCFuhCuyB4CFElmvGHH25e45Olv1qvoX6fxVNBHAAokDWbFoDP/46rc0U/TJuBHSLaKdlnBQXO0L7g+EAfAaY44sLNaTLmN/nTk7vPEQubnhYBRDa9colO7M2DNX3jOEF20V0TGKEOJ6uCp7AHDrzU9erklMQ+v2kVqVw7RZO7JBC2f/7stKkTe2TJN9mSk6PQXt9ZjIYn8wLAAJTPBkXBTZ5eQoQRNkENcODJMetc6Rx+Ju0Q5d6EOMphTwhkzbNUveif/K2Jht0wQ5QojroMC6CSyaiKstO7heS2wiAqtrfA1lNY7EHHjvYY0gWxgL5dQdP8mWI7uMRdVfW+hhEDqxPyjDQlkWaptxwAVcGFitaDDRqnpDuTSmd8HIO1i+ENbvE+br5CQkzBFCXAcF1k1knTh+8jHvuCGkJ6RP7XO1oYADuIMRh52V9KeMW/eePLX2Xflh74KCmsf+kd1O+XpiXzKNzRgOWK+OeDzIPZEnh7KPaNMJx4HkJyTIAWzQYMkeyU3XWO0RuooJcSlMcvIA8AKgOYLjhUB3np3HEuWhla/JTsN6QeytduUIXWDrV42UuOqNpWm1eqcstsSeYKMF78Vb8dNkeKMh2pfYkbSUlnNUvjCuvbd1hvgY90jRViIYlt++RgupY9w7h7LT5I6mV7GFIiEuhALrAaAxwjd75uojgFtvpmG5IjaLBgK3Nh6iySxYRCG2Jw+KqzeAua8QWNwbCA0E+KAr1UkpxVsXHg3U+zYN+feGC/XAtze5QlakbpSf9v6hM2YpsIS4Dgqsm4GFgkYBty8dV+Dac4wqQ2MBNG5H0hMWUuJ9oARnwYEV+jFiqkkZKZKUdUDvG4B4fcOqMdIwJPpfAgtLd0zrkRqGgIcE2ccMKxDiOiiwbgZJTGhvN3nrNzrw/JLonlqmgzgrLNWYoDr6SLwTJCY5YqfoyoTPEWdFxyaA+ufoKrUkIjBUfCqd6iTm/UOIe6HAuhlMSPlt/zJZdnCDNKgaKYNjeuliSQghxNpQYAkhhBAnQN8RIYQQ4gQosIQQQogToMASQgghToACSwghhDgBCiwhhBDiBCiwhBBCiBOgwBJCCCFOgAJLCCGEOAEKLCGEEOIEKLCEEEKIE6DAEkIIIU6AAksIIYQ4AQosIYQQ4gQosIQQQogToMASQgghToDzYM+A48ePy6effiqrV6+Wc889V/r27Su1atUyr1qHzZs3y48//ijx8fFy4sQJ86xnEhoaKoMGDZLzzz/fPOMd7N27V1588UXp1KmTXHzxxVK9enXzCiHEalBgz4CjR49Kly5dZMeOHdK4cWO5+uqrpWbNmuZV67Bw4UL5+++/JSsrSwICAsyzzsfHx0fCw8MlOjpaqlWrZp79B2xgUlJSJCkpSTIzM+Xw4cOSm5sr11xzjYpNYGCg+ZX2Z9OmTTJgwAC9z95++21p2LChPn+EEOtBgT0D0tLSpEGDBpKdnS1BQUHi7+9vXrEWvr6+0r59e7nuuuukRo0a5lnnA4GAxV+3bt1ify5ENTk5WRISEiQjI0N27twpL7zwgtSrV08mTJigYgNhrlSpkvk/7Aueg4cfflh++eUXef/996VPnz7FbkoIIZ4PBbYU8vLy1LKKi4uTqKgoufLKKyUiIsK8ai2wOYDLtVGjRh4tVgcPHpSnn35a/ve//6nlO378eOnfv79UrVrV9tYcNhuLFy+WK664Qs455xx55plnpHPnzro5IoRYCwpsKRw6dEg++eQTefzxx2X06NFy++23WzL+CiCqfn5+Hr9YIz6MTc3EiRPlrbfe0uf7jjvukOHDh1vSNV8W8HY8duyYPProo/LVV19pvP+JJ56QZs2amV9BCLEKFNhS2LZtm7pUYVVNnz5dWrVq5dL4pbeSk5Mjy5cvl+eff15fA2x0HnroIbn22mttL7KODcYNN9yg8ej//ve/cumll5pXCSFWgdkTpQCXHbJvO3TooK5hiqtrQJwbbvmXXnpJxo0bp0Izf/58OXLkiPkVzgdCl5iYWJB05SrgBkc4omvXrnr/bd261bxCrMKBAwf03r3rrrtk5syZmsdBvA8KbCkgBousW7gpKa6uJTg4WOPFiBvDtQ2xcaXQIbv5tddeU89FamqqedY1wJ3fokULFXmU7hBrgXvn999/l6lTp8o777wj+/fvN68Qb4ICSzwedyRkIWMcwjZlyhT57rvv3GKB1KlTR/92WNDY5BHrgPrlBx98UDPh9+3bpyEO4n1QYL0UWEZYtHEg3onPyT9gQXz11Vf1uUF5kTtqcVGegwNCv2fPHvMssQIhISGaBY46ZlizSFwj3gcF1ktBY4f33ntPj1mzZjFGVAQ8P5999pnWDSN7HE0yXE3Lli3156Pz1jfffGOeJVYBsXR4IRDaSE9PN88Sb8LyAgvLC7tDLEJoUkBOsnHjRpk9e7Z88cUX0q5du38dvXr10uQhHEjEGDJkiLZRZLzvJIi9Y2FEeQzcfe4obapSpYq2SwwLC5Np06ZpJzH8XsQawL2PZDV4iWjBeieWF1jcuF9//bVaGUwkOAkyGCdPnqzPCboCbdiwQQWicuXKBQdcj7GxsdKvXz9dyNGi795775WnnnpKlixZoocrM3Y9FTxX7qobhgWEzdAFF1ygZWIzZsxQlzWxBo4OZkjMQ7tVVyboEc/A8gILK2PlypWasefNgoCFF8K6ZcsWHUzw/fffa/tBZKKiQcPrr7+uGbGFD5wbO3asPqLvLwQX7uK7775bD7iP8X28beOCewouYoDsZXckWTnAAt2zZ0/tYgVvBAXWOuC+QWkfhBYxfSaqeR+2iMHCTezt/TIQQ33jjTfUCkV7PQhEmzZt9ONJkyZJ9+7ddRJQ4aNjx46a5YhuQa+88oq8/PLLGveDUO/evVu7CT3yyCOydu1a86d4B8j6RPwV1ivKhNxZngXrGRsfxPKweWIymnVwCCw2aRBYhrC8DyY5WRwsuMhSRLejZ599Vi15uKIgnhBMjD07U9DYAe72Dz/8UNvzRUZG6qL++eefa9mKt4CJQ7DkW7durb2n3d1sHyLLGmzrAcsVAoumKRRY74QCa3Hgvv3444/l1ltv1Wb+cP0iwQmuXViwZQXfo1u3bjJs2DB1HcN6Qjx20aJF5lfYH9SdIpnosssu02YXWCgJKSuwYNHWExYsYujMJPY+LL9yIK6xa9cunbpi1TFyZwMEFp2GYMHC0sEs0dq1a2vMDm/ssoJFAf8PdZ+o4YNrGdawu/r/whpHFyVXhgAcPwv3kzvjr8TaYGOG8YzwPuAepgXrfVhaYGFlwNpAjBBF3RAVb8NRxI7EHAhDRfbNRYMFjI3DgY/dAeLBGLoO4MJGyYy3gtcX2ags1bEO2KQhfg5DAFYs8S4sLbAQFsTLsAgj0xLdU7wNWKs9evTQZCXESRGH3b59e4VkLELM6tevr4e7hA07fzRZQDY0Mp1DQ0PNK84BMW1PSyTCxhGueoBwgKv7IpPyAw8I3pvY9LKM0PuwtMBioZk7d67exKgV9EYLtkGDBlrvisYREEGUciD7F3WtdihbQlkKrHK4qdFNCZm9zgTJKJigA3c77idPcBEj/IHRdbCEEBdH+RWxDgi1wOuA7HTiXVhaYOEehdsFsQ6UU7ijX6wnAPfthAkT5MYbb9RY6U8//SS33XabJjvZBbzGrhA7ZGGjuT9iZ8jALk8cu6JBIxBYsBdeeKFumlgLay3gAaIF651YPsmJnATlAGgagdm1aO9HyseCBQs0znnzzTerW9pdXZyKgs0Fs5mtCTZriJ+zXaL3wXesTcDiC/cp3MSwumC9fvnll+ZVcqYgWQzPHzYpniKuxNp4QpiBuAcKrA2BmxgxH6vHYBFrhEUJsHlwlQWHBdEbS76I83BlmRnxHCiwNuSmm25St1RZQHwI7mUc6N6EzGx3xvqQybt69WrNmkUi1/nnn6+xSEIIsQoUWBsCCxYZsOhHDJEqehQdSYfMWTT2dzT5v//++3U8mjsL4/GzV6xYIQkJCZpBiyxxdFUihBCrQIG1IYgdIqP6l19+kS5duhQcyIrFAO/HHntMS19woF72jz/+kI8++kjmzZsnf/75pyxbtkyb/SNL213AgsaYPYgqSpDYi5cQYjUosDYEZTuXX3659icufGD2Kxo1oFYWpQNI5Hnrrbe0jhbDvCHCiHnCTYyMZGQmuwtY1WiYAbdwq1atmHBECLEcFFgbAoEdNWqUPP7446ccGD3Xv39/6d27tzRt2rSgDWFSUpKEhYWpwEJ0kYnsyqSi4kCSFmLAEFZYsczEJIRYDQqsDYHVh+4/aKNY+EAv3/Hjx+vEnXfffVfeeecdba345ptv6jk0p/CURKLCWZes/ySEWBGuXF6Eo7cwrFQMRyjsPkafX7R0IyfH1S1dulSTwTjgnBBSXiiwhBQClj/a2n3wwQea/FVRk4kIId4HBZaQQlx33XUyZMgQ7eiEGDUtWEJIeaHAElII9B+G+5wQQs4WCiwhhUDWsieWBCHpi9Y0IdaCAkuIBUBDkJ07dxYMcyCEeD4U2DMAlkNaWpo2Pti1a5dmmRL7AgsWdbeYNewJTdqzs7O1Vnnt2rXSoUMHbYNJCPF8KLBnAJoeoGzj0Ucf1YYNc+bM0R65aJBf9EAHImaenj14DnG4owYWvZyrVaumw9cxGxavvzvBhu63337T3tIDBw7UblyEEM+HAnsGwIKFew7N52fMmCEPP/ywiu24ceNOOZ577jmZMmWKWrloVg+3nuNAX190JuLYqtLB871161ZJT0/XDlOuBolO5557rvz9998yf/58/T3c+bqlpqbKokWL1DUMgQ0JCTGvEEI8GQrsGYBG8zfeeKMuuG+88YbGwaZPn65iWvhAdySI7PXXX69dkjChxnFg7NrcuXO1/IMie3rgmp05c6Y+T5ik42rq1asnw4YN04EJTz75pL7u2CS5CzwPsKLhtsa9x77MhFiDSsab17KrPZrSY7zaX3/9pVYjFp+KBuPd0KMX3Y4whQY9euGqg1VTlGPHjumYt88//7wgjucAH+P/ogcwai3hhoT7E+ch4I0bN9Zz3jo1BlYr3LF4vuPj43WjgtaOGEYQHR1tfpVrwFsCrv6pU6dqa8mOHTvKhAkTdOiAO3DFfU6cx+zZs3WgBmYaT5482TxLvAEKbCkUFljEX9HTtySQjLJv3z5ZuHDhvyxVWEBLlizRWC7OO6wQh8BiqHjfvn2lW7duEhkZqTFAO88/hUWGDQlE9ciRIypoeN6+/PJLSU5O1g0M2jeiR7K/v7/5v1wH4r+IqcOSxb01ceJEdc8W3jS5CgqstaHAei8U2FIoi8CeDggsetvCTbxmzRoVYwDLDUKzbt06/RiTcGDlQmRr1aqlYoysUZyLjY3VmKQ7Fvmygr8FcWcIJeLReHTMoEVMEQeEFCKGhLHExMSCJLEBAwZInTp19BGi5i7wmr3yyisyadIkeeCBB/QeCAoKMq+6DgqstaHAei8U2FKoKIEtCVhysOJgvaH/LZJ7YP1CgGFF4eWBBYdG/EOHDpXu3bufYv1i+g2ySvG3O9u9DNF0ZPcWPvA34BFJXI5zENc9e/bIxo0bddYsXh9YqthM4IB4IWkHfxt+b3yMvwtucixCsOjdDf4ezMfFa9+nTx8ZM2aMboBcDQXW2lBgvRcKbCk4W2ALgwUdVtzu3bvVqoOFB5YvX67ZrPgcIucAgtSkSRMZNGiQXHvttRIVFWVeOXuKWsn4ubBE0Z8XwglLEx+jPhNWKeqE8Tk+xjV8jr8HvyNizdgIxMTEqHA2atRIH2Gl43dGjNUT4894a8DSxsIIzwGsWdShuhoKrLWhwHovFNhSgMB27dpVhg8f7nSBBRCywgeAhQhLEO5luJkdQPCWLVumFiIEsaJcxxBECB5EEd8TFinEE1Ynbhf8Xnh03DoOKxoihAMfR0REFIzGwyOE1DHE3XHgexf+uKJ+/4oEfyN6E+N3f/3116Vz587mFddBgbU2FFjvhQJbCrDQMJT8P//5j/Tq1cttXXQgbhBUWIUOILywFiG8aH4BIawo4LJ1iJ5DTPG3Q3hhieIRMWJYoRAfWKoOly8eccAiRakLHh2WrBVp166d/o1IuEJ9rKuhwFobCqz3QoEtBcQSYb3heyPBBULhSUBUHW5Zh8XrDCC0+Nsdouk4IKie9pxUNLBg8bdSYEl5oMB6LxRYQkoBIQJsMBCDpcCSskKB9V7YyYmQUkCMGe5td+1FHfF4q7rYCfFW+I4lpBTgBkfsu7juXa4AZVs47Nx4hBA7QoElpBSQEY2EMpQeuQMMmkCyHVyMSB4jhFgDCiwhpYBsabhokUzmalCHizmwSGa78MILKbCEWAgKLCGlgJIkd1mwaDyCMYkoE0KyFQWWEOtAgSWkFCCwsGBhTboatNFEBy+UCaH7ld1LogixExRYQkrBIbDopezqTGL8XPxMlAl5WitJQsjpocASUgqoO0WJDAS2IrtlEULsDQWWkFJAeQzaRKJUxl2lOoQQ60GBJaQU0CITSUaOubaElBW4+NFPHDF14j1QYAkpBYcFC4HFLFtCygJmCGMkI7LBp0+fbp4l3gAFlpBSgLiiXSJdxKQ8QGAxsxkbtI8++sg8S7wBNvv3EPAywDrCVBw8lpRMA1cTSjbwt+LAx67uUYsJQxAauLvwWHiEXlnA34I2hHC/QsAcB87hmqeAhXHkyJGybt06nQnbo0cP84rzWbJkid7jcC+uWrXKPEusBtYovI547/B19B4osE4GDQpwoNyiKHjqcR7XIVK//vqrfPbZZ7qoltQ1COIDd1OfPn1kyJAh0qpVKxWo0oAIo0nB2QoXfs9t27bpDNr58+er2wubgvKAmk4MsG/UqJEOZsfcVRz16tUrtiQFmwmcd/WGAq/TiBEj5I8//tCRdRdddJF5xflQYO2B43WEF+Tvv//W9zGxPxRYJ7Njxw59Q6EjT1EgTLCKNmzYIImJiZKdna1/Q9u2baVx48bmV50K3qCbNm2S1atX6+dnIjb4mvr168vAgQO17V95BAq3CX72L7/8or8zFnzUh7Zu3Vq/d3nA37tnzx4VbPz92Gzgdyv6+2FTAGG96667ZPjw4VKnTh3ziuuAwC5cuJACS8rF0qVL9XXEff7WW29Jv379KLJeAAXWyTz55JPy8ccfq2uoKHiDIYGmWrVqesByu+qqq6RJkybqKi0OWLtwWcbHx8vXX39dIEynA/8nISFB6zjxcXmsWNwm+H/4vWBlIqbUsWNHfc7PxIIuDvzeeF4g3OiSBAHBQoTORYX/Jgjxn3/+qcL28ssvl7j5cCYQ2AULFqiLmAJLygqGNUycOFG++OILCQsL0/s5JCTEvErsCgXWydx7773y888/y9ChQyU2NtY8exK4PPFmCw8Plxo1aqjY4nOUhZwOvGRYcA8cOKCPpb2EECtYinv37j2rRgkQWPyucEvDtYvftyJa9+H3x++F2DNc4xDUwn8Tzvfq1Uu6d++uFiTcya7GXQILTwXucbx+//vf/6RTp07sR2xBcE8vW7ZM7rnnHtm6datOSPLE9YpUMMZCZlk2bdqU369fv3zjRs1PS0szz3oWs2fPzn/llVfyt2/fbp4hZcGw1vON3X6+Ieb5htWcb1ju5hXXcuutt+Ybwp4/a9Ys84xrSExMzH/iiSfyjc1ZvrFJyzc2G+YVYjWssF6RisW12SJeCEaMYdda1HolZ8bBgwflpZdeUjc0XNMomfEmEG8ePHiwejaQWMZWjYRYBwos8WiQCIbEqs6dO8uwYcPckuDkTuCWR6wOQ9+NDbF5llgRvJaO/AfkHpSWO0GsDwWWeDQQFSxEGNWGBCvHAkWI1UDORWRkpIrr22+/rd4ZYm8osMQSIJmK4kqsDBIDR40aJS1atJApU6ZISkqKeYXYFQosIYS4AOQRIMTRpk0bFVdkFhN7YxuBdVU8A7WkK1eu1HpNQlwNkpwYi7UuqH1HzTu9Md6BpQUWbkNHkwM0X3CFyO7bt08mTJggTz31lHmGEOeCLlaoOcb9jXpvWj6EWANLCyySXtDVx5ULDzoObd++XTsoEdcAiw2JIXh9XeWp8CRQooPOWXgeMI0F9yAhxPOxtMCiJhKN4rHoQvS4s7cncIuixdyHH36obRS9DbgU0cUKfZ+//fbbcg9XIIS4FttYsGiqT4G1HxhOcN111+kUHwxNQNtEbwPxOmwm0aISpR0YEWinhhM5J3Llr5Q1sjB5hXyXMF9uWPyEDJo/usTjsgX3ybz9S+VwDoffE8/G0gKLhAEswIhPMTZlT+Aeffjhh7X/Ll5fDCvwRiCwHTp00ElDU6dO1b7SVicjN0u2Ht0jH27/Xsaum6zHO/FfSVr2UQnw9f/XkZufJ/uzDsn6w9vk2XXvybKD6yXleJr53QjxPCwtsFhskOQEkUVMlAJrP1Ccj/m35RmxZycwAAJDBuLi4mTOnDmyZs0a84p1QAwZ4rk7fZ/M3bdUpu2epaI6dcePEupfTc6p0Vx61u4gD7a4QcbEjfj30XqEXBLTUxoFx0hCxn55cePH8m3CbxRZ4rFYftVChiW6oyC7lwJL7Aq8NbjP0ZcYbuLi5gt7Kpl5xyUx84BsOLJdZib9KePXvy8TDHF8f9u3er5W5TB5qvVIGdtmlDzS8mbpUau9tKvR7F9Ht4i2cleza+RiQ2Rjg6NlryGy03fPkU1Hdpo/yfOBu98xBxaxdFQ/EPtiC4GNiopSlxkFltgZLM7oS4zyNE+vhc3Lz5MsQ1iP5WbIytRN8sKGD2XIgvvl6bXvyuKU1dImtIlhqd4oH3V5Wr7uMVGaVqsvlX0DzP9dMtX9g2Vk46HyavsHJapKTdl+NEF+3LtA47hWAOLasGFDXbdeffVVHblJ7IvlBRaLDeYqHj161Gvjc4R4EhDXLUd2y9vxX8mg+XfLbUvHyYLklXJOWHO5ol5f+a7nq/JUm9vkP1HnSaQhkmXFt5KvIcj1pFN4nAruqtTNsvzQBvOqZ4O16uqrr5YBAwbo0HUO0bc3lhdYR0cUdrchdgf3OmKxiEejo5gnuReRrHT38gma5Tv493vkjr+f09hqVb/KcmPsxTKt+/PyYrt75K6m10h0lVoS5FtZ/H38DLEs3xIEkb26fj+JDqqpcd2EDGuUb+G1w2vYsWNH/ZjjB+2N5QWWEG8B3hr0scUCjXadSUlJ5hX3A1fwnox9xrFfAn0DJDQgRO5oepWMaT1Sbmx4sbqA61WtIzUr11BhrQhiq0ZLk5D6ciQnXT7e8YNaso5j+7G9et4TwUYJyZnenrjnDfAVJsQiQGCbN28u9erV09idJ8XvIgJDpW+dc+Wq+hcVZP3i43PD4/TamXA0J0P2Gpbo9mMJeuxKT5S8/JI7d4X4B0nzag30EZnJjlIfHJPip3lsdjEEFtnxeERXLoS3iD2hwBJLgOSQzMxMr05kw4KMmu9evXppww003vAUYoJqy6gmV8pjrW4pyPoN9gsyr54ZSZkH5NXNnxWI5HMbPpScEznm1eLpXbuTdIloI3WNn5+dl1Nw5JzIkxOnEWd3Ass1NjZWE9bmzp0r8fHx5hViNyiwxOPBggSrDZniW7Zs8fq4FRpOoHtZQkKCecYe7M86KKtSN8mfB1bLXylr9SgtO7hxSF15rcOD8mOv1085cA7XPBFsFrFJ6t27t6xfv16mT59uXiF2gwJLPB640x588MGCnsRbt241r3gn6GqFTQey5u242WhrWL8dwlqYn9kTvIaoaUaHLg5vsC+2ElhmEtsT7PhR1gD3KDp2eWM/4sKEh4dLaGioHDhwQBus2I0Nh7fLxsM7zM/sC0QWbn+uW/bF8gKLnTxiGbhRkSzAtHf7gdcW9YNYkGC1eXu9M1pH1qlTR7s5eVIm8dkSFlhd6lSOkAAfPzbyJ7bA8gKLzEo0hMcijBZymLpCiJ3B/V6jRg3dUB4+fNg8a30iq0TIPc2vlavq99NjSN0LxN/nZFtBQqyILQQWiw0EFr09KbDE7qDNHqx5JDrZaQB9WEB16RDWUvsRj297p5b6nEn7RCuDdQuvIT1v9sQWAgv3IcBungJLCLECjmQ1JDkx0cmeWF5gcZPWrFlTb1QkfbDhPyHECrRo0UIaN26sDUPWrVtnniV2whZJTrBg4WrBLpAWLCHECkREROiBpD2uW/bEVjHYtLQ03qiEEEuA8jPUwWJow+LFi7X8jCU79sIWFizKdJD4QQuWEGIl0NEJJVdfffWVrFixgiM3bYblBRaWK6xYiCzir1lZWeYVQoiVQO3rzvRE2XhkxylHRq5939MXXHCBDB06VFJSUmTNmjXMJrYZlhdYAJFFLIMCS4h1WZO6RW5dMlYu+f0eGbrg/oIDY/DsCjpyIcRF7IltBBY36fHjxymwhFicRsExBc0mcNQIqGZeIcRa2EZgkUkMCxYiS4gzQAIKXXjOp0X1hnJH0ysLDgossSq2EVi0j0OCEy1Y4gwQgsB95klDzu0GehE3DamvY+YiAmsUHP4+fuZXEGItbCWwjMESZ9G0aVMtq1i2bJnbSynw8+1YzoFexHc3v1YGR/c0zxBibWwVg4UFSxcxcQbNmjXTTPWNGzdq3aI7BQ4tQfE7QPAxK9cuoBcxLNiYoNrmGe8B/YhhIBB7YSuBRXwMxdqsJSMVDdpxNmjQQIVt165dbm2yv2XLFomPj5eoqCg9iLVBu1eA1xQGgh29E96KLQQWzSbq1q2rzSYSEhJsNcKLeAbYwNWvX18XwB07drhVYHF/Y1Qd7vmGDRuaZ4lVad68ufYl/uKLL2T69Olcv2yELQQWjSYQI6tcubJs27ZNi7YJqUjgHo6JiVHvyM6dO93iJYFlAwsa9zgWYWwsce8Ta9O6dWt57LHHNH8ESXR0FdsH27iIIyMjNdNz7969sn//fvMKsQNw/f/1119qtSHuCE+Fq8HPrVWrlm7isAi6w4LF8/DHH3/I5MmTpVq1ahoXJtYnODhY7y0AcaWL2D7YRmCR7NGyZUtJT0+X7du3m1eIHYBb9vXXX9eF57zzzitYjFyJI1MdluymTZvcIrCwmrdu3SpJSUly0UUXyWWXXWZesQ9oi7gvM0W2H0uQXemJkpdvn4HypwP3F7EfthBYB+3atdNdPgTWnTEyUrHgNZ01a5aEh4dr31Z3JfYgDgtrA8ko7rq/HD8XbkW7xV/Ri3jTkR3y4saPZey6yfLchg8l5wSHdxDrYiuBRaIAYlKIkbFcxx7AaoXlhgMCCwvSXbt9jBbDgalN7nDjOZ4Lu7oQ0Yv44VWvyXcJ82Vh8kr5K2WtIbDsnEWsi60EFpYNyikQg4UbjVgfxKSQ1APLLSgoyO1JPe4SNwgrhB0TVzIzM82zhBBPppKxYNhmO3zkyBG5/fbbNQnltddek+7du5tXKo4lS5bI3XffrRl/q1atMs+6BvzMffv2qeBgwXUXEDmUrCCrFkk/zgQbpaefflo+++wzefvtt+Xiiy/WBB93gPsKrz0SrlALi/7XruLQoUOa3PTKK6/ofYCY9I033mhetQcLk1eoa3j7sb36eYh/VVnY9319tDurV6+WLl26yK233iqPP/641K7tfc027IitBBaig5vzxx9/lAceeEBuuukm80rF4UqBhdUGqwUig9IjLOwLFiwoaHTgrpcO5SFt27aV0aNHS6tWrZwqeEgogqhiKPV7770njRs3dpsV606BhVdm/PjxKrJPPPGEXH311baLwSZmHpDVqVtkX1aKLDqwWrLyjsvkc5+QIF/nbuI8AQqsPbGVwIJ3331XJk2aJL169VIrtqJZunSpCgsaWjz55JN6DgLToUMHqVevXplLSCCU6D61ePFiSUxM1IQeB7iGhXzFihW6wMI1WKVKFRU1PLorFjlz5kx13cbFxWk2K1zzWBzQ+KCiW/fBJYrvff3118tTTz3l1s5FSG669957tVQGHzsGALgCvP7jxo2TKVOmqMBjg2NXkEmccjxNjuQek+bVYsWvkv1rfSmw9sR2Avvrr79q0TbidXPmzNH6xYpk3bp1+v3R9B3g6UOrs0svvVRGjBihIoNs09JATefBgwfV9bd27Vq1TnAOolp40cbvj8QauGKxqN58880q5jjnLoHF7/rtt9+qdZ2WlqbW/LBhw+TKK6/ULNuKBO7w6667ziMWHiTPPfvss/Lll1/KokWLtA61ou+vkvAmgfVGHAILtz827qjrJ9bHdgK7fv16efTRR7VecPbs2WrxwKVZUcDahEUJywrALY0WZ3BlwmWHGDCEBoKIxbc4EYT1B/F/9dVX5c8//1SRRoYsxBNJWo7/g0fUfJ577rn6hnPVYn4mQFTxXP/888/ywgsvODUmDKv4lltukYcfftgtNbAOkpOTVeCef/55mTZtmvTs2VM3Oq6AAmtvsMlGzkiPHj00vh4bG1uh6xZxD7YTWCQBPffcc/L999/rYoRFsCKFCU8XxKSwKxfdoxAfnDFjhrqOYWXBnTl48OBi43SIEcMSQmy1c+fO6lru37+/dOzYUV2/hcGbDBayp73ZHM/DgQMHZOrUqerehvXtDPD6XX755XLOOec4PanqdGBz9cMPP8jw4cPlxRdfVMs6NDTUvOpcKLD2Zs+ePZo38tNPP8ldd92lhzvDIaRisJ3Aov4ViSCwquDKhevS2YsyLFK4S5EA9fLLL6tViizbkSNHajIKsm1xHbFLxIjRLB6WzzXXXCM33HCDiirqO2GpWW3Xio0GsrcxKtBZwJJHnBvxbXc+P/hbERro27ev3HnnnXL//fe7zKKmwNobrFvwunXt2lWNAmSLI6GPWBvbCSz+nK+//lrFFQvhxIkTNR7rCiA0cBWPHTtWY4cAzS+QDIMEJcRZ4FrF5xBXxG0RsyXWAPcW3OJI7OrTp4+6iqOjo82rzsXTBfZITromJp3IPyGNQ3hPlwfkM2AkImKxSNBkr2nrYzsnvyNuCdcs4hrOjA0WBVYWMmthPUNkYcWitAOlNcuXL9cEoPvuu0/fPBBYWLbEOuDeghWNEABCEfBckJNAXCfFT9M61m/2zJNstjgsM47cC2IfbBlFR6IQkoYgboibOSs2WBywllFGg5jhSy+9JG+++aYmLbzxxhua1ASXdadOnVxa4mEHYD3itUQ9MKw5xH7hMXC1AwYCi4QzxM9dKbC4h+FG9NR7BjWr+zMPyfJDG1Rkj+dx80GILQUW1iuaocMtC5etO/oSYyGE0Pbu3bvApYiEJneMWrMCEErEOPFawY1e+MDriPmnaPiP2BRcpRMmTNAMZmfGfosDCVewYCHyrvrZeG7wHGCIBWL1SHrzNCICQ6V/VDeJrFzT+CxfjhsW7NkesIJtFb8iXoftYrAAlg6yiFE7iWxd1JZh1BjxTHALogYY8c2NGzeqmDhuS4e4IHsX1yG4OIcNDF7TDRs2uLR1IlzDqANG1jiag7giFor7GZsLlHFhmhDuaVfFfs8UxF63HkuQZwzrdfmhjXJPs+uksu/ZZe8H+PjLkLp99NEbwCYSYSXGYO2DLQUWcVckFMFqxIKEeChT3l0LbitYpFg04MpFAgdEtKg3AZYgknYgVvg6iGlhl75DTJEJjgxLdHTCdbym6KaE5g+ublno6mQjdPNCkw1sGrHRgCekaDmXJ3AgK1UmbvxEvkmYKzUCqkkl49/Z4FPJR7+PT6HvE+gbIBfW6SI3NRxsCLi9vEF4r8DrhRpYhJVQlkasjS0FFiD+CnFFD1sshrhpScWA2CMsyYyMDBVEPMLKgvggRooOVXhEnBSiWvgoGreEWKL0BglgTZs2lTZt2mgnrMLlOBBYxNQhZng9UTPozp7ArhZY3Mv33HOPbkKwqcBz4YnlXIi77s86JItTVptnykdGXpb2Ij6Ufdg8c5KDx9NkX+ZBqVm5hkw85z6JC20kwX6uqRBwBenp6do/Hd3ikKGOHtxWK9sjp2JbgcXCe8cdd+jihJ0/ymW8EVjzEEB0ISrcHKM4IGRopI84oyMeijc9DoeIOj6HiOLArhvtHiGmiEni5+FwWKGIGRY+isag8Tk6YEGo4B6DpwHW6ukWFrym3iaw7vp73YGjF3FRgV2dtkWmbJ1hWMqHpFm1BnJJTC/pHB4njYJjJMjP+gMB8H77+OOP9f5CDT3WL7u/1nbHtgKLWBliVZ988on2J27fvr1HJodUFHgZIWqwEPFGhdjhgNWIBhhwLUIgT/dyQ2ARz0RsE/8PoulIMsLhSDrC94AQ4/nEAUFGkwzU9KL0yPGIbFssEPie6HgEga2Iph8UWO9cdDFt57XNn8mSlLWSmn1UMg1Lt31YC7mr6dUSFvjv56SKb6C6mKv7V2x/bGeBjSlyCuB5gycHHemaNGliXiVWxLYCi85Jn376qfavxRxRNHVwZTKMK8AbEoLqsBwRw0SmKRKFsBDDTbtlyxbtnQwhhICWBYghMmZRV4yyIiTWQDThooQI4xweHR+7yp1FgfVeqwaiipF2qLX9bf8ySc8tefh8g+BoebzVLdK9ZjvzjOeD9zGMAcTYkeiEPuTEuthWYGFxoWUhhHXUqFG6QNkt0QliiraQ33zzjW4oHEILSxYHBBU1wQMHDtT+ueh5XNa+zPgeEE48lvaxq6DAeq/A5hv/8vJPaAnPB9u+07hsScCqHRTVQ2INobUS7dq1080tBdb62FZgITRoBoAFENmn6BGMJBorgjgnhrtjggvcvfjbgMNliwUX1iUs9EaNGmm8GUldcMlCUOGehdWJjyGGVocC670CW5jDOcckxxDakvCr5CeVfQMtl21MgbUPtk1RQ4wQAoN4IJJwkJBjBSCYaKuIsgzMl8WBZAdM2pg3b57GP/HmwwG3LCa6oEMUDiz8mMJxySWX6BsTcRyILdy6SCayg7gS4gCx1YjAGiUeoQEhtivlIdbC1jngiDs2b95cLUBPFFj8XrBIP/jgA7WIHAcaGWAEHHoY40AMFRYoxBSdjLCzxYFaudGjR8v555+v1jmsV5SxYGNh54QuQgixArYWWMQFIbDInkXCj8O16i5gfSI7F4lHGNiO7jwPPvigJmI98cQTMmbMGBVXuIPRzQVi6uhjjJ7G+FqMsoJ1igPJEEhCgrVOCCHEs7C1wEJ4YNlBWDEUHYlP7gS/B6zRK6+8UuPCaOGIxgFXXHGFPProo+oWxoE+uxDVAQMGFPQxxmxIuIUJIYRYA9tbsGhiAGFCcggybd0Jfh8kH1122WVyyy23aGwVcdMXX3xRC8uR6Ytj0KBBmv1LCCHEuniFwKIJgqcILBKO7rzzTrVUH3roIS0qR5tAR+ISDiQk4WtJ8cDlj97GeF0JIcRTsb3AogkC4pTIJEbZjrtBqQwSlhwNHFhyUXZ27NihXaaQ3OXqZC5kYjuEHe0jS2s/SQjxXmxvJjkyidE+EFYssT6wXtEPGVNlXJ3ghQ0SeiZj84b4OUSWEEKKwyv8kKgFRYLR7t27T9uLt7yga5KjVy9xPngNYUm6Y2QbXPgYKQZhx0hEZIUTQkhxeIXAwoLFgoxM4qLzSCsCLLK///679gAm9gbuYdxPiJNv2rRJ+z8TQkhxeIXAovkC4p6OGaUVDepWUcf64YcfmmeIXYFruGrVqlo2hXsJ9xQhhBSHVwgskokgsOjmhLmoFQ2sYmS20kXsHcA93LJlS40FU2AJISXhFQKLZvcQWSyIyEB1BjadmUCKAVYsLFgkOKHdJSGEFIdXCKwjbgbmzJnD0gpyViCej8lFSJzDiEBCCCkOrxBYgN6+qIldvHix7Nu3TzN/CSGEEGfhNQKLFoVokA+XHgax04ol3khefp4czcmQ43nZcoJhDUKcitcILHr7duzYUeNnP//8M117xCvZfmyv9Jk3Ul7Z/KmkZrPEiBBn4jUCC2Ft0qSJREdH6+By9CV29/g6QlxNrmHBHstJVws2XxgmIcSZeI3AgpiYGOndu7f2JYbIot0eIYQQ4gy8SmBr1KghF154oU6vwbBzduEhhBDiLLxKYFGuU7duXe0lu3TpUrqJCXEih3OOScrxVNmTsV82HtnhUcfWo3uM3y1N0nMzJS+frnLiHCrle1mHBHTeeeedd2T8+PEyadIkGTJkiNY0ng2zZ8+W0aNH6/i0yZMnm2eJs5gyZYqMGTNGZ+piQD0a8LsSdOx67733dFj+2LFj5dZbbzWvOAf0PMb9tWzZMtm5c+dZjTiEuAxdcL9cVb+f3NH0SokIrGFeOTMQwy1OkHJP5MqJIuc/3vGDHDx+WLYdS5C/D643z7qfE5Ivof4hMii6h8SFNpauEW0l2K+K+FTy0aMwPlJJfIs570zatWun9/Rrr72mlQ/EunidwGZnZ8vatWulT58+MmDAAHnmmWe0K8/ZQIF1Ld4msKjdxv2VmJgoGzZscKvALk5ZI/FH/z32cXbSX7Lu8Dbzs5PkGKKbb4huw5C60imspXnW/aTlHJVVhzbL/qxDKp44alUOl4siuxiPpz4ftQLDpH1YC+N8mHnG+VBg7YPXCSz+XLiGBw0apElOL730kvTt29e8Wj4osK7FmwQWeQIYIvHyyy/LJZdcIs8//7wEBQWZV8+MNWnx8sbmL6S1Ya1daIhISQILyzQp84AkGgeyjI/mZsjXu+caQnTQ/AqRY8a5zLxTJ1LVNsSpmn9V8fM5dTZv7cBwGVqvr4oWLERPIedEnmQZf0NGXpasTdsq8/f/LVuMTUNq9lEJ8Dl1gH+Aj79U8Q3Ux6LA+h1S9wKJqlJTIo0DQl0RUGDtg9cJLMDs1hdeeEE++ugjufvuu+WWW245KzcxRtXdeeedEhcXJ2+99ZZ2jCLOw5sEdsuWLfLII4/ImjVrZOrUqdKpUyfx8ztVBEpjYfIKGbtussQGx8jF0efLgytfkT61zzVE9iKpZFxflLJajuSk6+bzwPFU2ZuRLLn5uYZg+Iq/ITg4HHQOj5PYqlHmZycJNsS1YdVoCfQ9VYRC/Kqq8Ab6BphnPAv8vYgT42+PP7pb48VFwbVFKav0sSiw0HMNsY4OqiU1jY3KwOgeKrYRgaH6d5cXCqx98EqBRRcnJDkNGzZM3cNYJNu3b29eLTtbt26VO+64Q+fCvv3229K2bVvzCnEG3iSwiLvCOwJvC+5ZJOqhF3JZQELPmDWTNBZaPSBEdhzbKxEBoRJeOVRjjCoUhqBWMiywmoY4RFepZVijfhLkW1m612wrNQL+2XzGBNVWAfEWIKxIhjpiCHFRdqYnyp8HVsvezGRjY5Kmlm4N4/ntHtFOXcptQptIdf9gQ2yD/2Xdnw4KrH3wqixiBxg3hq5OOGAhzJ0717xSPurXr681tqiv3b9/v3mWkLMHPbOxB0ajFCy6ZRVX0DikrnSJaKNWFpKRDNtN8ox/OSdyJNQQhNuaXC5j4kbIk8bxbJs7ZGybUTK+7Z3y37jh0rt2J2lXo1nB4U3iCmCJNgyOPuU5cByXxvTW5wrPGZ47uMETMw7IJzt+lFc3fybPrJuiH8M6RrJXtvF8E+/CKwUWi1RAQIAMHTpUF6/4+HjzSvnw9/dX0SbEUxnd7Br5sdfr8lanR8W/kp8MjOohn3YbJ590fUYuieklPWq1N6zVdhJriEllD3XpeiJ4rvCc4bn7tNt4+Z/xnD7e6hYZHH2+rEjdKJO3fSOjlo2XyVu/loSMZMnKyzb/J/EGvFJgHVStWlXjWaiFZT0sIeRsgYXfp865cnuTK+TXC96V/2swUJPCpu78SW5aPEY+2v69+ZXEG/Bqga1du7aEh4fr+Lo9e/aYZ8sP3HkoAyKEeCeol0VSWGXfQAkLqC4jGg9Vq/aymN6Sk58r72+bIZctuE/m7V8q1/35mAyaP1pe3/y5+b+J3fBqga1Xr540bNhQ9u7dKxs3bjTPlg90iAK//vorJ/UQQgyxrSThgdU1Bj6y8eVyT7NrpUX1hpKclSrj138gq1K3aF3yvkJlUMReeLXAhoaGasYeBHHOnDnm2fLRq1cviYyMVIGFWNPlTAhxUK9qHbk4uqc81OJGTZBKyNgv9YLqaKKUJzXhIBWLVwsskp1QUoPSh0WLFplnywf6G/fr109LdWbMmEFXMSFlZFd6UkGv4JIOlBwhI9eKw+LRrKKqXxXx8/GRKr6V5bFWw+Sp1rfJZXUvML+C2A2vFlgQEhKiAovaxrOxOtFcomvXrjqx5+uvv9a6RS8sMSakzOQb/9AhauTSZ2Xw7/dojBLdpoo7bv7rSZmZtEjrdq0EejijicdXe36VOUlLtEYW2cch/mXrykWshdcLLGoL0cUJAoum6mcjsmhacd5552lD9j/++IPzZgk5AzDRZsBvd8p2swHGyS5T/Yo9UFLUNKS+S5vvVwTLDq6XlzZNlWm7Zkun8FbyUvv7tL0isTdeL7BoEoEh7HDtYsrOqlWryi2MNWvW1Npa1MV+8cUX2vOYEHJ64OlB32OUuLQPay63N7lc+yQXdwxrdInEhTaqsL6/ruK3/csMy/Uvbewxru0d2h2ruL8BlQhoKoLwVXmaihDPwusFFi7i7t27axbw559/rr2Jk5OTzatlA67m2NhY6datm8Z0N2/eLBkZGeZVUhHs2rVLpyGdTWcj4plEVolQAW0YHGOIbY1iD5S+IH5pyI/5vzyfpYb1uvTgOuN3rybDG12m7SZLElesPcePH9dQU1mHOhDPw+sFFgt1ixYttJ8ssoCXLFmiE0zKAxZ7xGKvvfZatV6/++47SUtLM6+SigCTi+bPn6/lVcgAZwct+4B4JCy7ID/X9pZ2FrDM07KPyiub/ieHs4/JpXV760i8koDAYgMJgUXr1bMZS0g8A68XWBARESEXX3yxuorLOqmkKMHBwTprFt8HLRjheiYVx/Lly+Xw4cMyYsQI6dChw1m/XoQ4CzSWmLPvLx33h4QmtKeEBV4SENgdO3ZoBQJCVygjJNaGAlvBwCKGqxiPmNqDg9nEFQcWoSpVqmgXLrqHiaeCzOiM3CwZt/598avkJyObXK4NJ04HEiwxmQvrRVRUlLZyJdaGAusEsPDD3Yys5MWLFzObmBAvAwPd16Vtlbz8POkX2VUaBceYV0oGm0dM90JeCFq4YpNOrA1fwWJAZ6ezKddB8s2zzz6rluyXX36pZTuEEO8hNfuoTN89R2ft9qnTWUL9Q8wrJQOBRRc4h8AS60OBNYEYNm/eXHeNmA+L2a7lBWU6iMPClYl4ITOJSXlBfTYOYi1Q2/vXwbXSKayVhAeGljpwHRt6rBUYOoKcECRLEutDgTVBSjz6CSNpBiU2uNnLC1zEaF7hSMBhDJaUh4MHD8q8efN0g4akF7uTmJkivycv1wHlR3Osuyk9knNMVqZu1hgsModrBJRuvSKxCfFXvNbY6GP9INaHAmuCAezR0dEqjrjZz8ZFXBhkEWOhPHbsmHmGkDMDGaU///yzZqajPtuuVKrkI+EB1WV3epJM2vKlPLX2XVl+aIMKLWKYVmNPxn6ZtmuWVPMPkosiu0qwX+n1rCjN2bBhg7qJ27Rpo25iYn0osE4EVvH27dvl+eef15IdQsoCwhTYoKEcCSVkdiXAx09ubXyZRFeppcPJIa63Ln1GLl/4oOzPMp6DnHTJyMuS4ydyNHkInxc+svI8Z7BGtvE7rji0UbYd3SM9a3UUv0pnVqeNMMD69esL6vKZQWwPKLBO5KGHHpLWrVtLSkqKWrGElAd4VexckuTv4y9D6vaR73q+Kk+3uU0GRHWXqCo1C3oU9/j1FnlqzTuGVThT3o7/Uj8vfLy48SPzO7mfmYl/yvvbvpPIoJoypvUIqewbYF45PRBYuIhRngP3MBuo2AMKrBNBohN2o3jzlLc7FCF2B1sHjHIL9quiJS2jmlwpvWp1kK4120jNwBqSY1iFs5IWy1tbpsvUHT+p8Fb3D5bm1RpIuxpNJcawfD2FFambdNA6/oYqvoFn3NIRawRCAmi1iioEYg8osE4EcRT0FEUd7Lvvvqs1sWg84Skg+QpJFXBjr1y5UttEOuP4+++/JSEhQeNMhJwOxCsxiPzOplfLk3Ej5dm2d8jYNqN0dup9za+Xh1vepM3yn2o9Usa2vl3GxI2QwTG9zP/tXg5lH5bD2Ue1z3CosQEoCygN3L9/v+aBIB+E2INKxiLLFFcTZA4jW7NLly7y2muvSbNmzcwr5WfOnDny9ttv65Se9u3by8cff1xifAUvBX4H9C92phghkQJJVxA9uKXQPN/RA9UZIK6Ev33w4MFnnQ373//+V3/f119/XS666CLzrGuBtfHee+/JuHHjZOzYsdrH2hmg7/Lo0aPl/PPPl8mTJ5tnzw4MLcdcVYx+w3QaNNAnFcMXu2bJu/Ff6dACbApK69xUmNWrV+u6g3vp8ccf105lxPpQYAsBccNM17i4OHnjjTf08WzB0wtxvf3227WIHFYsrNrCXVocLwHcyCgRgiifTR1uaSBDGlb1gQMH9BH1ujic1dcXwo2fg9gSmpifDXgOsUHB6wMXvDugwJLiGDR/tGYQX1X/IsPivsU8Wzp4P65YsUJf55EjR8qjjz5KgbUJFNhCIGOzZ8+eWqYzceJEtZAqol0ZLMWXX35ZF0l8f4zGK+oGgut42bJl6q6Fu6gifm5JIGEGpR+dOnXSAfF4xGYCwu8MEhMT5cUXX5Tp06dXSNMNWMP4fh07djTPuBZvFdi8/BNywjhQOuP4+HT4+/hpCQ5cpmeaTWtFsIAiTnzpgvskyLeyJje1CW1y8uIZAI/VtGnT5L777pMHH3xQ7rzzTm02QawPBbYQWDjhzn3ppZfkuuuuk/vvv19q1Tr7BArsUJHA8PDDD8usWbNUTItmheJlqFOnjgwaNEjH3bVq1cq84hzw8yHisFpxIGvRWZmqcEnDisXGpSLA74rOW+iY5Q68VWATDOts+aGNsis9SWYn/SUJmfvNK8VzY+wgCQ+sLk1C6kvXiDbmWfuB0pxv9syV1zZ/LufVbCf3Nr9es6DPlKVLl8q9996rm+tff/1VmjZt6rZ7m1QsFNhCQAjQqqx///7qokEctm3btubVswMCg2HK2K3i5xQHRAMzIDGmCi5b4pnYRWDPq3WOBFT6JywAi7NDWEv9mjc2fyFJmQfMKyfJOpGtdaioVcWygdFrkUERxQ4PB7vS90lGbqZm0xbXbCEutLEMjDqv4Ofi0WqgBndneqLcvnScJGWlyOOtbtHnFlnRZ8qnn34qjz32mK47EyZM0ORIO5dleRMU2CLA2oQLEgIHgT333HPNK4ScxC4Cuyp1sxzL/cdlH+gToO5NdFBCR6Xc/FyJDjrVg9M5PE5iq0aJnyGGaAwRERiqZSnFsTZtqwryDkOAlh5cZ579BzTCx3UI66UxF8jl9foaom2tFoHJWYcMy/Uzw4KdJ7c1uVwGRZ9/RpNzCoN7Ccl7qJsfNWoUy3RsBAW2GNq1a6c3OQWWFIcrBRYtEmvWrCk333yzjkDs1q2bxs/LG6MvLLCIpeaacdTU7CMyb99SaVatgXZHAmjzh6YPhYkJqq2iWhZSjqepe7kosPzwMxenrDFE1l/+L3ZggcAWFXA8VvMvW+mLK9h2LEFu+PMJqR4QLJM6PSoNjM1HWZkyZYqMGTNGs4eHDx9OgbURzsukIYScFci6Rg4AZoRi8YU1O2PGDG2ph+5gZ9sve3Sza2R82zv1eKTlzdIkpJ4mLlX1qyJtajSVK+pdKO1qNDvlKKu4Avyfot8Hx6UxveXxuOEq5PiaT3f+Ii9v+p8er2z6VIeVj103WY+ZSYt1c4Bj05GdGgc+nHNMck+4t1cx4q+p2YflXMOyR6MMQgpDgSXEQ0EXsAceeKDAssnMzNRyr4EDB6oFnZRkiMzhw6ccKIcqTzOT+lUj5cderxccr3V4sEx1nOWlduVwGWcI/Pc9X1WRR+IVjusb/Eet2fWHt8mq1C0ydu1ktbxxXL7wAblj2fMydfuPsj/roMaE0afYmQfc2YSUFbqIi4EuYnI6XOUixlsTYglLFeKKWskff/xRfvnlFxVXUDgZBpmnKC276667tGlBcRR2EXtaHSxE7IQWvZz82x0lQWD2vr9kXdpW/RhW43cJ8/Uro6pESL/IblKrsnP/jrCAUBkU3cP87B8q4vmki9i+UGCLgQJLToerBLYwjlInNCPZtm2bfPjhh5rxXhgMlMAB0S1p3FlOTR/Jvaue9K7cTu5rfYM0CI+xRGs+JGMhIQqcMJYsxIwnxX8pezOS9ePCyVrOADHi4tofYsrPvswUCiwpFgpsMZxzzjm6g4bAojEEIYVxh8AWBs060OkL7uDCoFHKN998I3/88UeJNcfHw42vG15TKq/MlNitIVLTsPyK6+CFcrELL7xQG5Fg7KInkph5QA4dPyzb0/dKZm6WebbigYguOrBaew0XB7Kv721+nbQObaIlSWUBnd1eeOEF7dlNgbUfFNhiuOKKK2TNmjVy5ZVXamIJsjgBLAjHjM7CTxssBlzDeVgY+BosghX51MLKQItAZJDiwMc4cL5oRil+LrpBOZJg8Puhxhb1tfg/zmqJ6C24W2BLAq87XMdoGl+SwB7yPSavpX0t65eukeCfjkil1Nxi67LxN6Jv9JAhQ/4lsLifcA6TX9D9q7CbuigQC9x3EGyrkmGINzKhSxJYPx9faV4ttkzdqvD+3Ldvn95D3377rSaz4V5CfJ1NJuwDBbYYfv/9d+3iBNFEi0PMdMXTtHfvXvn888+1H27hRQlvCAgqDjTRh9Di/1Yk+BlYrHBgcUOdLh5RulFc20U0tcAiCbAAYkoHSjzatGkjYWFh+n0cMydxHZ/je/LNXTqeKrBnQsrxVB37Nm3XLPlvyPVSK6favwQWn8+cOVMPJE4VBzZs2HgW7atdFLT8u/TSSzUm7GikgnvsdKJsRxxxdKwR+BjiOmnSJO07jvfr008/rc9Tac8nsRYU2GLAUzJixAjdWV5wwQW6u4Rgzps3Txvkg6ILBEoqIGLoM9ywYUMdnFyRbxRYxrBM0NcXjxBQlGqcacYoFk18LawJTAlq0qSJiiqA0KIXcY8ePfRvKDzsGX8nPqfV+w9WFtiDxw/LlG3faGOET7uN09Kc4khNTdUxg5s3bzbP/AOsY5xHwlVpnhpYamgB2r17d6lXr54MHTpUGjVqpGKL9wfuKzuKLZ4TvN/wvsPH2HQvXLhQDzx/mzZt0t7jEFvkebiztzZxHhTYEoDAvv/++youOPA0YdIOpl3AbQY3bVGwYDiOil408PMdh+NNi+NMwJt4w4YNsmDBAn1TY9wbhLrw/8ffCIsEMTe80R0iC4sDfZFhxdO6PYmVBRYJQmhMn30iV4L8AsW3BLcm7g0IhCPMUBTcgxDP04HvgZjwm2++qbW7EFO4na+55hq1bCG0jsYZdgOCirhqfHy8PofoNwxrFa1S8bzg+YPHCB6yq666SjccfH/ZDwpsCUBgkd0H0UEjbiR8QGzCw8P10SFAVgAvMSxwJMXggNVR2IWNHfX8+fO1/GPnzp163bFBwN+JBRA1mZdddpla8xVpmXsa+NsQp4YbHe46POI5KLxhsrLAuhoICjwtyEuA9fbKK6+ocOP5hGWLyTHw+gB4gRDXxXvOqvcYNq7I7sacZdwbjnwN/M3wEhUeRYcNB0I8uMeIPaHAlsA999wjP/30k7aow44b7i0riWpZwA4bC6BjYSgcd8PiCFchuglBWOz6HDjAwo7YNsQVCz4e4e7HoohHbDDwlvn+++9VZJEBSoEtHQgMxBb5DXj88ssv1ZsCyw3PM8DGBhu5Xr16qdekJJGFOOMahBni5E7LD+8dbFoxCQd/F0YywnLF+wahnL59++qBTTlCM8iBsKPFToqHAlsCcOfArXXJJZfortpbQewX82yxGOIoKTvVLsB1BwseMUj87Y7NBqwNbC4csWgkqeBrXn31VRk2bJieI2cO3l+I4SLxxwGeUwgVxBiiezorFqKKEjqMd8QmqDggxBBweJ0g3oW9EGcLhBWCik3pb7/9pn8L8jNw7yCPASPnkHyIcBISvPDzifdBgSWkEA6LBBY9BBSWCBo7wHUO637Xrl0FsUcsms8884wmwpGzZ/fu3SpWsAKRsV8S2AThtQGnc7FCUOFxGDx4sNa2wzPhyMA/G6sXPx+bAXgxUFWAhC9sCJA0iElc6KSFx4oUdGJNKLCEEEsBL8pXX32lMU4I3emAGAJk6sKq7NSpk2bLI8mqKBBEeCggwCWJI6xrbL4++OADHSGIn9+yZUtN5HJ0gCPEAQWWEGIpsGTBi4BEPYeAFgeEGNnzH330kfz888+acAS3c9GkNQewQgcMGKBufwhl0a+BuCIb+L777pN169bp7wH3L8r5IMolfV/ivVBgCSG2BOILEYbFiXgpmsD88MMPsnLlSg0FFAbiCbc0EpNiYmKKjf9iqcT3QLcsJGMhua1///7SoEED8ysIORUKLCHEK4DVC7FF8lpRyxeCiyQ+DFFAtvzpgHU7atQozQ5miQ05HRRYQggxcJSqnYnAOkqECDkdFFhCCCHECdi3JQ8hhBDiRiiwhBBCiBOgwBJCCCFOgAJLCCGEOAEKLCGEEOIEKLCEEEKIE6DAEkIIIU6AAksIIYQ4AQosIYQQ4gQosIQQQogToMASQgghToACSwghhDgBCiwhhBDiBCiwhBBCiBOgwBJCCCFOgAJLCCGEOAEKLCGEEOIEKLCEEEKIE6DAEkIIIU6AAksIIYQ4AQosIYQQ4gQosIQQQogToMASQgghToACSwghhDgBCiwhhBDiBCiwhBBCiBOgwBJCCCFOgAJLCCGEOAEKLCGEEOIEKLCEEEKIE6DAEkIIIU6AAksIIYQ4AQosIYQQ4gQosIQQQogToMASQgghToACSwghhDgBCiwhhBDiBCiwhBBCiBOgwBJCCCFOgAJLCCGEOAEKLCGEEOIEKLCEEEJIhSPy/5VZ1VPwJEhbAAAAAElFTkSuQmCC)\n",
        "</p>"
      ],
      "metadata": {
        "id": "75LYkwxAliRn"
      }
    },
    {
      "cell_type": "code",
      "source": [
        "'''\n",
        "Implementação 4\n",
        "'''\n",
        "\n",
        "# Código\n",
        "\n",
        "class PilhaInvert:\n",
        "    def __init__(self):\n",
        "        self.dados = []\n",
        "\n",
        "    def empilhar(self, valor):\n",
        "        self.dados.append(valor)\n",
        "\n",
        "    def desempilhar(self):\n",
        "        if self.dados:  # Verifica se a pilha não está vazia\n",
        "            return self.dados.pop()\n",
        "        else:\n",
        "            return None  # Pilha vazia\n",
        "\n",
        "    def inverter(self):\n",
        "        pilha_invertida = PilhaInvert()  # Criando uma nova pilha para armazenar a inversão\n",
        "        while self.dados:\n",
        "            pilha_invertida.empilhar(self.desempilhar())  # Desempilha da pilha original e empilha na pilha invertida\n",
        "        self.dados = pilha_invertida.dados"
      ],
      "metadata": {
        "id": "9f9kfQ89NBv9"
      },
      "execution_count": 7,
      "outputs": []
    },
    {
      "cell_type": "code",
      "source": [
        "    minhaPilha = PilhaInvert()\n",
        "    minhaPilha.empilhar(1)\n",
        "    minhaPilha.empilhar(2)\n",
        "    minhaPilha.empilhar(3)\n",
        "    minhaPilha.empilhar(4)\n",
        "\n",
        "    print(\"Pilha original:\", minhaPilha.dados)\n",
        "\n",
        "    minhaPilha.inverter()\n",
        "    print(\"Pilha invertida:\", minhaPilha.dados)"
      ],
      "metadata": {
        "colab": {
          "base_uri": "https://localhost:8080/"
        },
        "id": "mycbzqIUMeWs",
        "outputId": "7c8c981b-244a-4ad1-8251-f18953f0644c"
      },
      "execution_count": 8,
      "outputs": [
        {
          "output_type": "stream",
          "name": "stdout",
          "text": [
            "Pilha original: [1, 2, 3, 4]\n",
            "Pilha invertida: [4, 3, 2, 1]\n"
          ]
        }
      ]
    },
    {
      "cell_type": "markdown",
      "source": [
        "### 5. Crie duas Pilhas com diferentes implementações: Uma usando collections.deque, e a outra usando Lista Encadeadas. Faça inserções e remoções nas pilhas criadas na questão anterior e discuta qual das duas implementações aparenta ser mais eficiente e o porquê."
      ],
      "metadata": {
        "id": "R_tCXYiW939X"
      }
    },
    {
      "cell_type": "code",
      "source": [
        "'''\n",
        "Implementação 5\n",
        "'''\n",
        "\n",
        "# Código Deque\n",
        "\n",
        "from collections import deque\n",
        "\n",
        "class PilhaDeque:\n",
        "    def __init__(self):\n",
        "        self.dados = deque()\n",
        "\n",
        "    def bota(self, valor):\n",
        "        self.dados.append(valor)\n",
        "\n",
        "    def tira(self):\n",
        "        return self.dados.pop()"
      ],
      "metadata": {
        "id": "g43fKDp_97ZT"
      },
      "execution_count": 13,
      "outputs": []
    },
    {
      "cell_type": "code",
      "source": [
        "pilha_deque = PilhaDeque()\n",
        "pilha_deque.bota(1)\n",
        "pilha_deque.bota(1)\n",
        "pilha_deque.bota(1)\n",
        "pilha_deque.bota(1)\n",
        "pilha_deque.bota(1)\n",
        "pilha_deque.bota(1)\n",
        "pilha_deque.bota(1)\n",
        "pilha_deque.bota(1)\n",
        "pilha_deque.bota(1)\n",
        "pilha_deque.bota(1)\n",
        "\n",
        "pilha_deque.bota(1)\n",
        "pilha_deque.bota(1)\n",
        "pilha_deque.bota(1)\n",
        "pilha_deque.bota(1)\n",
        "pilha_deque.bota(1)\n",
        "pilha_deque.bota(1)\n",
        "pilha_deque.bota(1)\n",
        "pilha_deque.bota(1)\n",
        "pilha_deque.bota(1)\n",
        "pilha_deque.bota(1)\n",
        "\n",
        "pilha_deque.bota(1)\n",
        "pilha_deque.bota(1)\n",
        "pilha_deque.bota(1)\n",
        "pilha_deque.bota(1)\n",
        "pilha_deque.bota(1)\n",
        "pilha_deque.bota(1)\n",
        "pilha_deque.bota(1)\n",
        "pilha_deque.bota(1)\n",
        "pilha_deque.bota(1)\n",
        "pilha_deque.bota(1)\n",
        "\n",
        "pilha_deque.bota(1)\n",
        "pilha_deque.bota(1)\n",
        "pilha_deque.bota(1)\n",
        "pilha_deque.bota(1)\n",
        "pilha_deque.bota(1)\n",
        "pilha_deque.bota(1)\n",
        "pilha_deque.bota(1)\n",
        "pilha_deque.bota(1)\n",
        "pilha_deque.bota(1)\n",
        "pilha_deque.bota(1)\n",
        "\n",
        "pilha_deque.bota(1)\n",
        "pilha_deque.bota(1)\n",
        "pilha_deque.bota(1)\n",
        "pilha_deque.bota(1)\n",
        "pilha_deque.bota(1)\n",
        "pilha_deque.bota(1)\n",
        "pilha_deque.bota(1)\n",
        "pilha_deque.bota(1)\n",
        "pilha_deque.bota(1)\n",
        "pilha_deque.bota(1)\n",
        "\n",
        "pilha_deque.bota(1)\n",
        "pilha_deque.bota(1)\n",
        "pilha_deque.bota(1)\n",
        "pilha_deque.bota(1)\n",
        "pilha_deque.bota(1)\n",
        "pilha_deque.bota(1)\n",
        "pilha_deque.bota(1)\n",
        "pilha_deque.bota(1)\n",
        "pilha_deque.bota(1)\n",
        "pilha_deque.bota(1)\n",
        "\n",
        "pilha_deque.bota(1)\n",
        "pilha_deque.bota(1)\n",
        "pilha_deque.bota(1)\n",
        "pilha_deque.bota(1)\n",
        "pilha_deque.bota(1)\n",
        "pilha_deque.bota(1)\n",
        "pilha_deque.bota(1)\n",
        "pilha_deque.bota(1)\n",
        "pilha_deque.bota(1)\n",
        "pilha_deque.bota(1)\n",
        "\n",
        "pilha_deque.bota(1)\n",
        "pilha_deque.bota(1)\n",
        "pilha_deque.bota(1)\n",
        "pilha_deque.bota(1)\n",
        "pilha_deque.bota(1)\n",
        "pilha_deque.bota(1)\n",
        "pilha_deque.bota(1)\n",
        "pilha_deque.bota(1)\n",
        "pilha_deque.bota(1)\n",
        "pilha_deque.bota(1)\n"
      ],
      "metadata": {
        "id": "d872mYkFpXPh"
      },
      "execution_count": 18,
      "outputs": []
    },
    {
      "cell_type": "code",
      "source": [
        "class Node:\n",
        "    def __init__(self, valor):\n",
        "        self.valor = valor\n",
        "        self.proximo = None\n",
        "\n",
        "class PilhaListaEncadeada:\n",
        "    def __init__(self):\n",
        "        self.topo = None\n",
        "\n",
        "    def push(self, valor):\n",
        "        novoNode = Node(valor)\n",
        "        novoNode.proximo = self.topo\n",
        "        self.topo = novoNode\n",
        "\n",
        "    def pop(self):\n",
        "        if self.topo:\n",
        "            valor_removido = self.topo.valor\n",
        "            self.topo = self.topo.proximo\n",
        "            return valor_removido\n",
        "        else:\n",
        "            return None\n"
      ],
      "metadata": {
        "id": "KrSnMT36oQ4_"
      },
      "execution_count": 9,
      "outputs": []
    },
    {
      "cell_type": "code",
      "source": [
        "pilha_lista_encadeada = PilhaListaEncadeada()\n",
        "\n",
        "pilha_lista_encadeada.push(1)\n",
        "pilha_lista_encadeada.push(1)\n",
        "pilha_lista_encadeada.push(1)\n",
        "pilha_lista_encadeada.push(1)\n",
        "pilha_lista_encadeada.push(1)\n",
        "pilha_lista_encadeada.push(1)\n",
        "pilha_lista_encadeada.push(1)\n",
        "pilha_lista_encadeada.push(1)\n",
        "pilha_lista_encadeada.push(1)\n",
        "pilha_lista_encadeada.push(1)\n",
        "\n",
        "pilha_lista_encadeada.push(1)\n",
        "pilha_lista_encadeada.push(1)\n",
        "pilha_lista_encadeada.push(1)\n",
        "pilha_lista_encadeada.push(1)\n",
        "pilha_lista_encadeada.push(1)\n",
        "pilha_lista_encadeada.push(1)\n",
        "pilha_lista_encadeada.push(1)\n",
        "pilha_lista_encadeada.push(1)\n",
        "pilha_lista_encadeada.push(1)\n",
        "pilha_lista_encadeada.push(1)\n",
        "\n",
        "pilha_lista_encadeada.push(1)\n",
        "pilha_lista_encadeada.push(1)\n",
        "pilha_lista_encadeada.push(1)\n",
        "pilha_lista_encadeada.push(1)\n",
        "pilha_lista_encadeada.push(1)\n",
        "pilha_lista_encadeada.push(1)\n",
        "pilha_lista_encadeada.push(1)\n",
        "pilha_lista_encadeada.push(1)\n",
        "pilha_lista_encadeada.push(1)\n",
        "pilha_lista_encadeada.push(1)\n",
        "\n",
        "pilha_lista_encadeada.push(1)\n",
        "pilha_lista_encadeada.push(1)\n",
        "pilha_lista_encadeada.push(1)\n",
        "pilha_lista_encadeada.push(1)\n",
        "pilha_lista_encadeada.push(1)\n",
        "pilha_lista_encadeada.push(1)\n",
        "pilha_lista_encadeada.push(1)\n",
        "pilha_lista_encadeada.push(1)\n",
        "pilha_lista_encadeada.push(1)\n",
        "pilha_lista_encadeada.push(1)\n",
        "\n",
        "pilha_lista_encadeada.push(1)\n",
        "pilha_lista_encadeada.push(1)\n",
        "pilha_lista_encadeada.push(1)\n",
        "pilha_lista_encadeada.push(1)\n",
        "pilha_lista_encadeada.push(1)\n",
        "pilha_lista_encadeada.push(1)\n",
        "pilha_lista_encadeada.push(1)\n",
        "pilha_lista_encadeada.push(1)\n",
        "pilha_lista_encadeada.push(1)\n",
        "pilha_lista_encadeada.push(1)\n",
        "\n",
        "pilha_lista_encadeada.push(1)\n",
        "pilha_lista_encadeada.push(1)\n",
        "pilha_lista_encadeada.push(1)\n",
        "pilha_lista_encadeada.push(1)\n",
        "pilha_lista_encadeada.push(1)\n",
        "pilha_lista_encadeada.push(1)\n",
        "pilha_lista_encadeada.push(1)\n",
        "pilha_lista_encadeada.push(1)\n",
        "pilha_lista_encadeada.push(1)\n",
        "pilha_lista_encadeada.push(1)\n",
        "\n",
        "pilha_lista_encadeada.push(1)\n",
        "pilha_lista_encadeada.push(1)\n",
        "pilha_lista_encadeada.push(1)\n",
        "pilha_lista_encadeada.push(1)\n",
        "pilha_lista_encadeada.push(1)\n",
        "pilha_lista_encadeada.push(1)\n",
        "pilha_lista_encadeada.push(1)\n",
        "pilha_lista_encadeada.push(1)\n",
        "pilha_lista_encadeada.push(1)\n",
        "pilha_lista_encadeada.push(1)\n",
        "\n",
        "pilha_lista_encadeada.push(1)\n",
        "pilha_lista_encadeada.push(1)\n",
        "pilha_lista_encadeada.push(1)\n",
        "pilha_lista_encadeada.push(1)\n",
        "pilha_lista_encadeada.push(1)\n",
        "pilha_lista_encadeada.push(1)\n",
        "pilha_lista_encadeada.push(1)\n",
        "pilha_lista_encadeada.push(1)\n",
        "pilha_lista_encadeada.push(1)\n",
        "pilha_lista_encadeada.push(1)\n",
        "\n",
        "pilha_lista_encadeada.push(1)\n",
        "pilha_lista_encadeada.push(1)\n",
        "pilha_lista_encadeada.push(1)\n",
        "pilha_lista_encadeada.push(1)\n",
        "pilha_lista_encadeada.push(1)\n",
        "pilha_lista_encadeada.push(1)\n",
        "pilha_lista_encadeada.push(1)\n",
        "pilha_lista_encadeada.push(1)\n",
        "pilha_lista_encadeada.push(1)\n",
        "pilha_lista_encadeada.push(1)\n",
        "\n",
        "pilha_lista_encadeada.push(1)\n",
        "pilha_lista_encadeada.push(1)\n",
        "pilha_lista_encadeada.push(1)\n",
        "pilha_lista_encadeada.push(1)\n",
        "pilha_lista_encadeada.push(1)\n",
        "pilha_lista_encadeada.push(1)\n",
        "pilha_lista_encadeada.push(1)\n",
        "pilha_lista_encadeada.push(1)\n",
        "pilha_lista_encadeada.push(1)\n",
        "pilha_lista_encadeada.push(1)\n",
        "\n",
        "\n"
      ],
      "metadata": {
        "id": "66Wh4vDLp-U6"
      },
      "execution_count": 17,
      "outputs": []
    },
    {
      "cell_type": "markdown",
      "source": [
        "5 - conceitos:\n",
        "\n",
        "- Eficiencia\n",
        "    - a colectons aparena ser mais rapida, pois a pilha com lista de nós pecisa criar uma instania na memória toda vez.\n",
        "    - em comparação, ela é mais organizada"
      ],
      "metadata": {
        "id": "oQ-aoQDEo5is"
      }
    },
    {
      "cell_type": "markdown",
      "source": [
        "# ╰(*°▽°*)╯《見てくれてありがとう！！！》"
      ],
      "metadata": {
        "id": "ErQFpoJg-Tn8"
      }
    }
  ]
}