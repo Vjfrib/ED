{
  "nbformat": 4,
  "nbformat_minor": 0,
  "metadata": {
    "colab": {
      "provenance": [],
      "include_colab_link": true
    },
    "kernelspec": {
      "name": "python3",
      "display_name": "Python 3"
    },
    "language_info": {
      "name": "python"
    }
  },
  "cells": [
    {
      "cell_type": "markdown",
      "metadata": {
        "id": "view-in-github",
        "colab_type": "text"
      },
      "source": [
        "<a href=\"https://colab.research.google.com/github/Vjfrib/ED/blob/main/listas/Lista%202/Lista_2_ED.ipynb\" target=\"_parent\"><img src=\"https://colab.research.google.com/assets/colab-badge.svg\" alt=\"Open In Colab\"/></a>"
      ]
    },
    {
      "cell_type": "markdown",
      "source": [
        "# Lista 2 - ED\n",
        "*Prof. Dr. Cleyton Mário*\n",
        "<br>\n",
        "*Disc. Vinícius Ribeiro*\n",
        "\n",
        "@Github on <a style=\"color: white; text-decoration: none;\" href=\"https://github.com/Vjfrib/ED/\">https://github.com/Vjfrib/ED</a>, then <a href=\"https://github.com/Vjfrib/ED/blob/main/listas/lista_1_ed.ipynb\">listas/lista_2_ed.ipynb</a>"
      ],
      "metadata": {
        "id": "aGiw5QPH5-Kv"
      }
    },
    {
      "cell_type": "markdown",
      "source": [
        "## Lista Completa:\n",
        "\n",
        "1. Implemente uma estrutura de Dados tipo Deque usando Listas Encadeadas. É importante que o TAD possua as 4 operações para remover e inserir dados de ambas as extremidades. Comente sobre o tipo de Lista Encadeada escolhida para implementação.\n",
        "\n",
        "2. Ajuste o código anterior para criar uma função remover_duplicatas(fila) que recebe uma fila como argumento e remove todas as duplicatas, deixando apenas a primeira ocorrência de cada elemento na fila.\n",
        "\n",
        "3. Implemente uma fila circular utilizando um deque. A fila circular possui um tamanho máximo e, quando atinge esse tamanho, o próximo elemento a ser inserido substitui o elemento mais antigo da fila. Crie funções para inserir elementos na fila (enqueue), remover elementos da fila (dequeue) e exibir os elementos da fila.\n",
        "\n",
        "4. Escreva uma função em Python que recebe uma pilha como entrada e inverte a ordem dos elementos utilizando apenas uma pilha adicional.\n",
        "\n",
        "5. Crie duas Pilhas com diferentes implementações: Uma usando collections.deque, e a outra usando Lista Encadeadas. Faça inserções e remoções nas pilhas criadas na questão anterior e discuta qual das duas implementações aparenta ser mais eficiente e o porquê."
      ],
      "metadata": {
        "id": "DVnp0C-Y6Qyg"
      }
    },
    {
      "cell_type": "markdown",
      "source": [
        "## Recomendações:\n",
        "\n",
        "- Prazo: 19/05/2024\n",
        "<br>\n",
        "- Ɵ OBS.: Para as listas será preciso enviar um documento com as respostas e um link de um vídeo\n",
        "onde o discente deverá explicar cada questão. As questões não serão pontuadas caso este link\n",
        "não seja enviado. O aluno não precisa aparecer no vídeo. Basta gravar sua voz explicando as\n",
        "questões. Os códigos precisam ser explicados passo-a-passo.\n"
      ],
      "metadata": {
        "id": "lSHC0Hrw6YvL"
      }
    },
    {
      "cell_type": "markdown",
      "source": [
        "## Resoluções"
      ],
      "metadata": {
        "id": "qnBWRLMf65gJ"
      }
    },
    {
      "cell_type": "markdown",
      "source": [
        "### 1. Implemente uma estrutura de Dados tipo Deque usando Listas Encadeadas. É importante que o TAD possua as 4 operações para remover e inserir dados de ambas as extremidades. Comente sobre o tipo de Lista Encadeada escolhida para implementação."
      ],
      "metadata": {
        "id": "xLgJuyOv6-2P"
      }
    },
    {
      "cell_type": "code",
      "source": [
        "'''\n",
        "Implementação 1\n",
        "\n",
        "farei com listas duplamente encadeadas, acredito serem as mais robustas\n",
        "'''\n",
        "\n",
        "# Código, protótipo\n",
        "\n",
        "class Deque:\n",
        "  def __init__(self): # Construtor\n",
        "    self.dados = []\n",
        "\n",
        "\n",
        "  def addFrente(self, valor):\n",
        "    return self.dados.insert(0, valor) # Adiciona um valor na frente (pelo índice[0])\n",
        "  def removeFrente(self):\n",
        "    return self.dados.pop(0) # Remove o valor da frente [o índice]\n",
        "\n",
        "  def addTras(self, valor):\n",
        "    return self.dados.append(valor) # Adiciona um valor na traseira do deque.\n",
        "  def removeTras(self):\n",
        "    return self.dados.pop() # Remove da traseira. Segue a logica da lista\n"
      ],
      "metadata": {
        "id": "cs7d4gBr7FvW"
      },
      "execution_count": null,
      "outputs": []
    },
    {
      "cell_type": "code",
      "source": [
        "'''\n",
        "#tinha tentado um retorno diferente, mas nem com casting funcionou\n",
        "\n",
        "  \"\"\"coloquei return pra ver se há a possibilidade de voltar o valor. somei com a string do verbo que diz o que aconteceu\"\"\"\n",
        "  def addFrente(self, valor):\n",
        "    return \"somou Tras \" + str(self.dados.insert(0, valor)) # Adiciona um valor na frente (pelo índice[0])\n",
        "  def removeFrente(self):\n",
        "    return \"tirou Frente \" + str(self.dados.pop(0)) # Remove o valor da frente [o índice]\n",
        "\n",
        "  def addTras(self, valor):\n",
        "    return \"somou Tras \" + str(self.dados.append(valor)) # Adiciona um valor na traseira do deque.\n",
        "  def removeTras(self):\n",
        "    return \"tirou Tras \" + str(self.dados.pop()) # Remove da traseira. Segue a logica da lista\n",
        "\n",
        "'''"
      ],
      "metadata": {
        "id": "_wWEtAquND93"
      },
      "execution_count": null,
      "outputs": []
    },
    {
      "cell_type": "markdown",
      "source": [
        "### 2. Ajuste o código anterior para criar uma função remover_duplicatas(fila) que recebe uma fila como argumento e remove todas as duplicatas, deixando apenas a primeira ocorrência de cada elemento na fila."
      ],
      "metadata": {
        "id": "0E-J0OU09suX"
      }
    },
    {
      "cell_type": "code",
      "source": [
        "'''\n",
        "Implementação 2\n",
        "'''\n",
        "\n",
        "# Código\n",
        "\n",
        "class DequeBuffado(Deque): # Classe dequeBuffado, filha (subclasse) de deque. com mais funcionalidades\n",
        "  def removeDuplas(self):\n",
        "    elemNovos = [] # Nov lista, que vai carregar\n",
        "\n",
        "    for elemento in self.dados: # itera pelo tamanho da qnt. de dados\n",
        "      if elemento not in elemNovos: # condição \"se não já tiver o elemento, coloque na lista\". os que passarem e n tiverem no append é pq estão repetidos\n",
        "        elemNovos.append(elemento) # Dá appnd nos elementos novos\n",
        "\n",
        "        self.dados = elemNovos # no fim, entrega os elemenos em repetição pra os dados da instância\n",
        "\n",
        "  def exibe(self): # self recupera os dados da instancia, que é dekBuff e tbm um dek\n",
        "    return self.dados\n"
      ],
      "metadata": {
        "id": "xfAFe_qH9us6"
      },
      "execution_count": null,
      "outputs": []
    },
    {
      "cell_type": "code",
      "source": [
        "# Exemplo de execução\n",
        "\n",
        "baralho = DequeBuffado() # Criando uma instância de DequeBuffado\n",
        "\n",
        "# Adicionando alguns valores\n",
        "print(\"Adicionado\", baralho.addFrente(1)) # por algum motivo, o retorno é none.\n",
        "baralho.addFrente(2)\n",
        "baralho.addTras(3)\n",
        "baralho.addTras(1)\n",
        "baralho.addTras(2)\n",
        "baralho.addTras(4)\n",
        "\n",
        "print(\"Deque Atual:\", baralho.exibe()) # Debug 1\n",
        "\n",
        "baralho.removeDuplas() # Removendo duplicatas\n",
        "print(\"Deque sem duplas:\", baralho.exibe()) # Debug 2\n",
        "\n",
        "# Removendo elementos\n",
        "print(\"Removendo da frente:\", baralho.removeFrente())\n",
        "print(\"Removendo da traseira:\", baralho.removeTras())\n",
        "\n",
        "print(\"Deque Atual:\", baralho.exibe()) # Debug 3"
      ],
      "metadata": {
        "colab": {
          "base_uri": "https://localhost:8080/"
        },
        "id": "brzsz97TKFV5",
        "outputId": "fa3ca2cb-c98b-4f7a-b22d-5cbf71184972"
      },
      "execution_count": null,
      "outputs": [
        {
          "output_type": "stream",
          "name": "stdout",
          "text": [
            "Adicionado None\n",
            "Deque Atual: [2, 1, 3, 1, 2, 4]\n",
            "Deque sem duplas: [2, 1, 3, 4]\n",
            "Removendo da frente: 2\n",
            "Removendo da traseira: 4\n",
            "Deque Atual: [1, 3]\n"
          ]
        }
      ]
    },
    {
      "cell_type": "markdown",
      "source": [
        "### 3. Implemente uma fila circular utilizando um deque. A fila circular possui um tamanho máximo e, quando atinge esse tamanho, o próximo elemento a ser inserido substitui o elemento mais antigo da fila. Crie funções para inserir elementos na fila (enqueue), remover elementos da fila (dequeue) e exibir os elementos da fila."
      ],
      "metadata": {
        "id": "QGWA_TZr9ylL"
      }
    },
    {
      "cell_type": "code",
      "source": [
        "'''\n",
        "Implementação 3\n",
        "'''\n",
        "\n",
        "# Código"
      ],
      "metadata": {
        "id": "4LdmiIAa90kM"
      },
      "execution_count": null,
      "outputs": []
    },
    {
      "cell_type": "markdown",
      "source": [
        "4. Escreva uma função em Python que recebe uma pilha como entrada e inverte a ordem dos elementos utilizando apenas uma pilha adicional."
      ],
      "metadata": {
        "id": "1bKrFRv291Rs"
      }
    },
    {
      "cell_type": "code",
      "source": [
        "'''\n",
        "Implementação 4\n",
        "'''\n",
        "\n",
        "# Código"
      ],
      "metadata": {
        "id": "tgF1TN2iOQPX"
      },
      "execution_count": null,
      "outputs": []
    },
    {
      "cell_type": "markdown",
      "source": [
        "5. Crie duas Pilhas com diferentes implementações: Uma usando collections.deque, e a outra usando Lista Encadeadas. Faça inserções e remoções nas pilhas criadas na questão anterior e discuta qual das duas implementações aparenta ser mais eficiente e o porquê."
      ],
      "metadata": {
        "id": "R_tCXYiW939X"
      }
    },
    {
      "cell_type": "code",
      "source": [
        "'''\n",
        "Implementação 5\n",
        "'''\n",
        "\n",
        "# Código"
      ],
      "metadata": {
        "id": "g43fKDp_97ZT"
      },
      "execution_count": null,
      "outputs": []
    },
    {
      "cell_type": "markdown",
      "source": [
        "# ╰(*°▽°*)╯《見てくれてありがとう！！！》"
      ],
      "metadata": {
        "id": "ErQFpoJg-Tn8"
      }
    }
  ]
}