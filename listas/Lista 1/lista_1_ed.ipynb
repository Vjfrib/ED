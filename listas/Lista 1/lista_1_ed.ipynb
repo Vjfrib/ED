{
  "nbformat": 4,
  "nbformat_minor": 0,
  "metadata": {
    "colab": {
      "provenance": [],
      "include_colab_link": true
    },
    "kernelspec": {
      "name": "python3",
      "display_name": "Python 3"
    },
    "language_info": {
      "name": "python"
    }
  },
  "cells": [
    {
      "cell_type": "markdown",
      "metadata": {
        "id": "view-in-github",
        "colab_type": "text"
      },
      "source": [
        "<a href=\"https://colab.research.google.com/github/Vjfrib/ED/blob/main/listas/lista_1_ed.ipynb\" target=\"_parent\"><img src=\"https://colab.research.google.com/assets/colab-badge.svg\" alt=\"Open In Colab\"/></a>"
      ]
    },
    {
      "cell_type": "markdown",
      "source": [
        "# Lista 1 - ED\n",
        "*Prof. Dr. Cleyton Mário*\n",
        "<br>\n",
        "*Disc. Vinícius Ribeiro*\n",
        "\n",
        "@Github on <a style=\"color: white; text-decoration: none;\" href=\"https://github.com/Vjfrib/ED/\">https://github.com/Vjfrib/ED</a>, then <a href=\"https://github.com/Vjfrib/ED/blob/main/listas/lista_1_ed.ipynb\">listas/lista_1_ed.ipynb</a>"
      ],
      "metadata": {
        "id": "aGiw5QPH5-Kv"
      }
    },
    {
      "cell_type": "markdown",
      "source": [
        "## Lista Completa\n",
        "\n",
        "1. Explique o conceito de uma Fila de Prioridade como um Tipo de Dados Abstrato e dê um\n",
        "exemplo prático de situação onde o uso desse TDA é vantajoso.\n",
        "2. Compare a eficiência de algoritmos recursivos e iterativos para calcular o n-ésimo termo\n",
        "da Série de Collatz. Discuta como a recursão afeta a complexidade de um algoritmo. Se fosse\n",
        "utilizada recursão de cauda na série de Fibonacci, haveria algum impacto? Discuta.\n",
        "3. Apresente e implemente (a linguagem fica a sua escolha) um problema clássico que é\n",
        "comumente resolvido com abordagem recursiva, como o algoritmo de Torres de Hanoi, e\n",
        "explique a estratégia por trás da solução recursiva.\n",
        "4. Explique o papel da pilha de chamadas (call stack) no contexto de funções recursivas.\n",
        "Como a manipulação da pilha afeta o desempenho e uso de memória em algoritmos recursivos?\n",
        "5. Implemente uma função em uma linguagem de sua escolha para inserir um nó em uma\n",
        "lista encadeada circular de pessoas (sugira os atributos), levando em consideração a ordenação\n",
        "por idade. O novo nó deve ser inserido na posição correta da lista para manter a ordem crescente\n",
        "de idade.\n",
        "6. Implemente uma função em uma linguagem de sua escolha para mesclar duas listas\n",
        "encadeadas de pessoas em uma única lista encadeada, mantendo a ordem crescente com base\n",
        "na idade. As duas listas encadeadas de entrada já estão em ordem crescente, e a lista resultante\n",
        "também deve estar em ordem crescente."
      ],
      "metadata": {
        "id": "DVnp0C-Y6Qyg"
      }
    },
    {
      "cell_type": "markdown",
      "source": [
        "## Recomendações\n",
        "\n",
        "- Prazo: 08/05/2024\n",
        "<br>\n",
        "- Ɵ OBS.: Para as listas será preciso enviar um documento com as respostas e um link de um vídeo\n",
        "onde o discente deverá explicar cada questão. As questões não serão pontuadas caso este link\n",
        "não seja enviado. O aluno não precisa aparecer no vídeo. Basta gravar sua voz explicando as\n",
        "questões. Os códigos precisam ser explicados passo-a-passo.\n"
      ],
      "metadata": {
        "id": "lSHC0Hrw6YvL"
      }
    },
    {
      "cell_type": "markdown",
      "source": [
        "## Resoluções"
      ],
      "metadata": {
        "id": "qnBWRLMf65gJ"
      }
    },
    {
      "cell_type": "markdown",
      "source": [
        "### 1. Explique o conceito de uma Fila de Prioridade como um Tipo de Dados Abstrato e dê um exemplo prático de situação onde o uso desse TDA é vantajoso."
      ],
      "metadata": {
        "id": "xLgJuyOv6-2P"
      }
    },
    {
      "cell_type": "code",
      "source": [
        "print(\"hello\")"
      ],
      "metadata": {
        "colab": {
          "base_uri": "https://localhost:8080/"
        },
        "id": "cs7d4gBr7FvW",
        "outputId": "48ac7a19-2eab-4c0f-9068-05926b7d6dd2"
      },
      "execution_count": null,
      "outputs": [
        {
          "output_type": "stream",
          "name": "stdout",
          "text": [
            "helo\n"
          ]
        }
      ]
    },
    {
      "cell_type": "markdown",
      "source": [
        "### 2. Compare a eficiência de algoritmos recursivos e iterativos para calcular o n-ésimo termo da Série de Collatz. Discuta como a recursão afeta a complexidade de um algoritmo. Se fosse utilizada recursão de cauda na série de Fibonacci, haveria algum impacto? Discuta."
      ],
      "metadata": {
        "id": "0E-J0OU09suX"
      }
    },
    {
      "cell_type": "code",
      "source": [
        "print(\"hello\")"
      ],
      "metadata": {
        "id": "xfAFe_qH9us6"
      },
      "execution_count": null,
      "outputs": []
    },
    {
      "cell_type": "markdown",
      "source": [
        "### 3. Apresente e implemente (a linguagem fica a sua escolha) um problema clássico que é comumente resolvido com abordagem recursiva, como o algoritmo de Torres de Hanoi, e explique a estratégia por trás da solução recursiva."
      ],
      "metadata": {
        "id": "QGWA_TZr9ylL"
      }
    },
    {
      "cell_type": "code",
      "source": [
        "print(\"hello\")"
      ],
      "metadata": {
        "id": "4LdmiIAa90kM"
      },
      "execution_count": null,
      "outputs": []
    },
    {
      "cell_type": "markdown",
      "source": [
        "### 4.　Explique o papel da pilha de chamadas (call stack) no contexto de funções recursivas. Como a manipulação da pilha afeta o desempenho e uso de memória em algoritmos recursivos?"
      ],
      "metadata": {
        "id": "1bKrFRv291Rs"
      }
    },
    {
      "cell_type": "code",
      "source": [
        "print(\"hello\")"
      ],
      "metadata": {
        "id": "EIGh-lj_93Sd"
      },
      "execution_count": null,
      "outputs": []
    },
    {
      "cell_type": "markdown",
      "source": [
        "### 5. Implemente uma função em uma linguagem de sua escolha para inserir um nó em uma lista encadeada circular de pessoas (sugira os atributos), levando em consideração a ordenação por idade. O novo nó deve ser inserido na posição correta da lista para manter a ordem crescente de idade."
      ],
      "metadata": {
        "id": "R_tCXYiW939X"
      }
    },
    {
      "cell_type": "code",
      "source": [
        "print(\"hello\")"
      ],
      "metadata": {
        "id": "g43fKDp_97ZT"
      },
      "execution_count": null,
      "outputs": []
    },
    {
      "cell_type": "markdown",
      "source": [
        "### 6. Implemente uma função em uma linguagem de sua escolha para mesclar duas listas encadeadas de pessoas em uma única lista encadeada, mantendo a ordem crescente com base na idade. As duas listas encadeadas de entrada já estão em ordem crescente, e a lista resultante também deve estar em ordem crescente."
      ],
      "metadata": {
        "id": "VkJNjhGF98MW"
      }
    },
    {
      "cell_type": "code",
      "source": [
        "print(\"hello!!!\")"
      ],
      "metadata": {
        "colab": {
          "base_uri": "https://localhost:8080/"
        },
        "id": "TtDhUqA-99zU",
        "outputId": "b42ed266-a9af-4b75-d818-029da2111620"
      },
      "execution_count": null,
      "outputs": [
        {
          "output_type": "stream",
          "name": "stdout",
          "text": [
            "hello\n"
          ]
        }
      ]
    },
    {
      "cell_type": "markdown",
      "source": [
        "# ╰(*°▽°*)╯《見てくれてありがとう！！！》"
      ],
      "metadata": {
        "id": "ErQFpoJg-Tn8"
      }
    }
  ]
}