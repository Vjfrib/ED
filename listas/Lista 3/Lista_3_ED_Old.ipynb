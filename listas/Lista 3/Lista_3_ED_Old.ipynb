{
  "nbformat": 4,
  "nbformat_minor": 0,
  "metadata": {
    "colab": {
      "provenance": [],
      "include_colab_link": true
    },
    "kernelspec": {
      "name": "python3",
      "display_name": "Python 3"
    },
    "language_info": {
      "name": "python"
    }
  },
  "cells": [
    {
      "cell_type": "markdown",
      "metadata": {
        "id": "view-in-github",
        "colab_type": "text"
      },
      "source": [
        "<a href=\"https://colab.research.google.com/github/Vjfrib/ED/blob/main/listas/Lista%203/Lista_3_ED.ipynb\" target=\"_parent\"><img src=\"https://colab.research.google.com/assets/colab-badge.svg\" alt=\"Open In Colab\"/></a>"
      ]
    },
    {
      "cell_type": "markdown",
      "source": [
        "# Lista 3 - ED\n",
        "*Prof. Dr. Cleyton Mário*\n",
        "<br>\n",
        "*Disc. Vinícius Ribeiro*\n",
        "\n",
        "@Github on <a style=\"color: white; text-decoration: none;\" href=\"https://github.com/Vjfrib/ED/\">https://github.com/Vjfrib/ED</a>, then <a href=\"https://github.com/Vjfrib/ED/blob/main/listas/lista_1_ed.ipynb\">listas/lista_3_ed.ipynb</a>"
      ],
      "metadata": {
        "id": "aGiw5QPH5-Kv"
      }
    },
    {
      "cell_type": "markdown",
      "source": [
        "## Lista V – Complexidade e Ordenação\n",
        "\n",
        "1. O algoritmo Quick Sort é conhecido por ter uma boa eficiência na prática, mas seu pior caso pode ser lento. Como é possível melhorar o desempenho do Quick Sort em casos específicos? Discuta a estratégia do \"QuickSort mediana de três\".\n",
        "2. Pesquise algum outro algoritmo de ordenação não mencionado em sala de aula.\n",
        "Implemente-o explicando linha a linha o processo de sorting.\n",
        "3. Implemente em um único código uma comparação de tempo dos 5 algoritmos de\n",
        "ordenação vistos em sala de aula juntamente com o algoritmo visto na questão\n",
        "anterior para listas randômicas com 1.000, 10.000, 20.000, 30.000, 40.000, e 50.000 elementos. Crie uma discussão acerca dos resultados plotados. Aproveite o código e faça uma comparação com uma única lista de 50.000 elementos, porém, force para que os elementos sejam preenchidos em forma descendente. Plote o tempo e discuta sobre o resultado alcançado fazendo uma comparação com o resultado da questão anterior.\n",
        "4. Escreva um código em Python para verificar se uma lista contém algum par de\n",
        "elementos cuja soma seja igual a um valor específico. Qual é a complexidade de\n",
        "tempo desse algoritmo? Explique o porquê. Faça uma análise da complexidade.\n",
        "5. (Discursiva) Imagine que você é o gerente de uma empresa de entrega de\n",
        "encomendas e precisa otimizar o tempo de entrega para satisfazer seus clientes.\n",
        "Você decidiu desenvolver um algoritmo para determinar a melhor rota de entrega\n",
        "para cada motorista, levando em consideração os locais de coleta e entrega das\n",
        "encomendas. Sabendo que a complexidade algorítmica afeta diretamente o\n",
        "desempenho do algoritmo, descreva uma proposta para seus programadores,\n",
        "considerando a análise da complexidade utilizando a notação Big O. Não precisa de código, porém é preciso discutir:\n",
        "  - A importância de considerar a complexidade algorítmica na escolha do\n",
        "algoritmo para otimizar as rotas de entrega.\n",
        "  - Como a notação Big O pode ser usada para comparar diferentes algoritmos e\n",
        "determinar qual deles é mais eficiente em termos de tempo de execução."
      ],
      "metadata": {
        "id": "DVnp0C-Y6Qyg"
      }
    },
    {
      "cell_type": "markdown",
      "source": [
        "## Recomendações:\n",
        "\n",
        "- Prazo: 15/06/2024\n",
        "<br>\n",
        "- Ɵ OBS.: Para as listas será preciso enviar um documento com as respostas e um link de um vídeo\n",
        "onde o discente deverá explicar cada questão. As questões não serão pontuadas caso este link\n",
        "não seja enviado. O aluno não precisa aparecer no vídeo. Basta gravar sua voz explicando as\n",
        "questões. Os códigos precisam ser explicados passo-a-passo.\n"
      ],
      "metadata": {
        "id": "lSHC0Hrw6YvL"
      }
    },
    {
      "cell_type": "markdown",
      "source": [
        "## Resoluções"
      ],
      "metadata": {
        "id": "qnBWRLMf65gJ"
      }
    },
    {
      "cell_type": "markdown",
      "source": [
        "### 1. O algoritmo Quick Sort é conhecido por ter uma boa eficiência na prática, mas seu pior caso pode ser lento. Como é possível melhorar o desempenho do Quick Sort em casos específicos? Discuta a estratégia do \"QuickSort mediana de três\"."
      ],
      "metadata": {
        "id": "xLgJuyOv6-2P"
      }
    },
    {
      "cell_type": "code",
      "source": [
        "'''\n",
        "Implementação 1\n",
        "'''\n",
        "\n",
        "# Código"
      ],
      "metadata": {
        "id": "cs7d4gBr7FvW"
      },
      "execution_count": null,
      "outputs": []
    },
    {
      "cell_type": "markdown",
      "source": [
        "### 2. Pesquise algum outro algoritmo de ordenação não mencionado em sala de aula. Implemente-o explicando linha a linha o processo de sorting."
      ],
      "metadata": {
        "id": "0E-J0OU09suX"
      }
    },
    {
      "cell_type": "code",
      "source": [
        "'''\n",
        "Implementação 2\n",
        "'''\n",
        "\n",
        "# Código"
      ],
      "metadata": {
        "id": "xfAFe_qH9us6"
      },
      "execution_count": null,
      "outputs": []
    },
    {
      "cell_type": "markdown",
      "source": [
        "### 3. Implemente em um único código uma comparação de tempo dos 5 algoritmos de ordenação vistos em sala de aula juntamente com o algoritmo visto na questão anterior para listas randômicas com 1.000, 10.000, 20.000, 30.000, 40.000, e 50.000 elementos. Crie uma discussão acerca dos resultados plotados. Aproveite o código e faça uma comparação com uma única lista de 50.000 elementos, porém, force para que os elementos sejam preenchidos em forma descendente. Plote o tempo e discuta sobre o resultado alcançado fazendo uma comparação com o resultado da questão anterior."
      ],
      "metadata": {
        "id": "QGWA_TZr9ylL"
      }
    },
    {
      "cell_type": "code",
      "source": [
        "'''\n",
        "Implementação 3\n",
        "'''\n",
        "\n",
        "# Código"
      ],
      "metadata": {
        "id": "4LdmiIAa90kM"
      },
      "execution_count": null,
      "outputs": []
    },
    {
      "cell_type": "markdown",
      "source": [
        "### 4. Escreva um código em Python para verificar se uma lista contém algum par de elementos cuja soma seja igual a um valor específico. Qual é a complexidade de tempo desse algoritmo? Explique o porquê. Faça uma análise da complexidade."
      ],
      "metadata": {
        "id": "1bKrFRv291Rs"
      }
    },
    {
      "cell_type": "code",
      "source": [
        "'''\n",
        "Implementação 4\n",
        "'''\n",
        "\n",
        "# Código"
      ],
      "metadata": {
        "id": "tgF1TN2iOQPX"
      },
      "execution_count": null,
      "outputs": []
    },
    {
      "cell_type": "markdown",
      "source": [
        "5. (Discursiva) Imagine que você é o gerente de uma empresa de entrega de encomendas e precisa otimizar o tempo de entrega para satisfazer seus clientes. Você decidiu desenvolver um algoritmo para determinar a melhor rota de entrega para cada motorista, levando em consideração os locais de coleta e entrega das encomendas. Sabendo que a complexidade algorítmica afeta diretamente o desempenho do algoritmo, descreva uma proposta para seus programadores, considerando a análise da complexidade utilizando a notação Big O. Não precisa  e código, porém é preciso discutir:\n",
        "  - A importância de considerar a complexidade algorítmica na escolha do\n",
        "algoritmo para otimizar as rotas de entrega.\n",
        "  - Como a notação Big O pode ser usada para comparar diferentes algoritmos e\n",
        "determinar qual deles é mais eficiente em termos de tempo de execução."
      ],
      "metadata": {
        "id": "R_tCXYiW939X"
      }
    },
    {
      "cell_type": "code",
      "source": [
        "'''\n",
        "Implementação 5\n",
        "'''\n",
        "\n",
        "# Código"
      ],
      "metadata": {
        "id": "g43fKDp_97ZT"
      },
      "execution_count": null,
      "outputs": []
    },
    {
      "cell_type": "markdown",
      "source": [
        "# ╰(*°▽°*)╯《見てくれてありがとう！！！》"
      ],
      "metadata": {
        "id": "ErQFpoJg-Tn8"
      }
    }
  ]
}