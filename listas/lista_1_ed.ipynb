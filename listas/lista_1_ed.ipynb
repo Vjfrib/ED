{
  "cells": [
    {
      "cell_type": "markdown",
      "metadata": {
        "colab_type": "text",
        "id": "view-in-github"
      },
      "source": [
        "<a href=\"https://colab.research.google.com/github/Vjfrib/ED/blob/main/listas/lista_1_ed.ipynb\" target=\"_parent\"><img src=\"https://colab.research.google.com/assets/colab-badge.svg\" alt=\"Open In Colab\"/></a>"
      ]
    },
    {
      "cell_type": "markdown",
      "metadata": {},
      "source": [
        "# Link para explicação\n",
        "\n",
        "Link <a href=\"\">AQUI</a>!"
      ]
    },
    {
      "cell_type": "markdown",
      "metadata": {},
      "source": [
        "# Lista"
      ]
    },
    {
      "cell_type": "markdown",
      "metadata": {
        "id": "Ac-Pz9Kq9dDI"
      },
      "source": [
        "Lista I\n",
        "\n",
        "1. Explique o conceito de uma Fila de Prioridade como um Tipo de Dados Abstrato e dê um\n",
        "exemplo prático de situação onde o uso desse TDA é vantajoso.\n",
        "2. Compare a eficiência de algoritmos recursivos e iteravos para calcular o n-ésimo termo\n",
        "da Série de Collatz. Discuta como a recursão afeta a complexidade de um algoritmo. Se fosse\n",
        "ultizada recursão de cauda na série de Fibonacci, haveria algum impacto? Discuta.\n",
        "3. Apresente e implemente (a linguagem fica a sua escolha) um problema clássico que é\n",
        "comumente resolvido com abordagem recursiva, como o algoritmo de Torres de Hanoi, e\n",
        "explique a estratégia por trás da solução recursiva.\n",
        "4. Explique o papel da pilha de chamadas (call stack) no contexto de funções recursivas.\n",
        "Como a manipulação da pilha afeta o desempenho e uso de memória em algoritmos recursivos?\n",
        "5. Implemente uma função em uma linguagem de sua escolha para inserir um nó em uma\n",
        "lista encadeada circular de pessoas (sugira os atributos), levando em consideração a ordenação\n",
        "por idade. O novo nó deve ser inserido na posição correta da lista para manter a ordem crescente\n",
        "de idade.\n",
        "6. Implemente uma função em uma linguagem de sua escolha para mesclar duas listas\n",
        "encadeadas de pessoas em uma única lista encadeada, mantendo a ordem crescente com base\n",
        "na idade. As duas listas encadeadas de entrada já estão em ordem crescente, e a lista resultante\n",
        "também deve estar em ordem crescente."
      ]
    },
    {
      "cell_type": "markdown",
      "metadata": {},
      "source": [
        "# Implementação"
      ]
    },
    {
      "cell_type": "code",
      "execution_count": 1,
      "metadata": {},
      "outputs": [
        {
          "name": "stdout",
          "output_type": "stream",
          "text": [
            "on\n"
          ]
        }
      ],
      "source": [
        "print(\"on\")"
      ]
    },
    {
      "cell_type": "markdown",
      "metadata": {},
      "source": [
        "## Awnser 1\n",
        "1. Explique o conceito de uma Fila de Prioridade como um Tipo de Dados Abstrato e dê um\n",
        "exemplo prático de situação onde o uso desse TDA é vantajoso."
      ]
    }
  ],
  "metadata": {
    "colab": {
      "authorship_tag": "ABX9TyOmlerDeK53uBhslJUKHfIp",
      "include_colab_link": true,
      "provenance": []
    },
    "kernelspec": {
      "display_name": "Python 3",
      "name": "python3"
    },
    "language_info": {
      "codemirror_mode": {
        "name": "ipython",
        "version": 3
      },
      "file_extension": ".py",
      "mimetype": "text/x-python",
      "name": "python",
      "nbconvert_exporter": "python",
      "pygments_lexer": "ipython3",
      "version": "3.11.9"
    }
  },
  "nbformat": 4,
  "nbformat_minor": 0
}
